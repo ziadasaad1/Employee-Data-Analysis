{
 "cells": [
  {
   "cell_type": "code",
   "execution_count": 1,
   "id": "47b2269a",
   "metadata": {},
   "outputs": [],
   "source": [
    "import pandas as pd \n",
    "import numpy as np \n",
    "import seaborn as sns \n",
    "import matplotlib.pyplot as plt \n",
    "import re\n",
    "import os\n",
    "from dotenv import load_dotenv"
   ]
  },
  {
   "cell_type": "code",
   "execution_count": 2,
   "id": "33c8e095",
   "metadata": {},
   "outputs": [
    {
     "data": {
      "text/plain": [
       "True"
      ]
     },
     "execution_count": 2,
     "metadata": {},
     "output_type": "execute_result"
    }
   ],
   "source": [
    "load_dotenv()"
   ]
  },
  {
   "cell_type": "code",
   "execution_count": 3,
   "id": "ff1f72d4",
   "metadata": {},
   "outputs": [
    {
     "data": {
      "text/plain": [
       "'C:/Users/user/Desktop/project 101/employee_records.csv'"
      ]
     },
     "execution_count": 3,
     "metadata": {},
     "output_type": "execute_result"
    }
   ],
   "source": [
    "os.getenv(\"data_path\")"
   ]
  },
  {
   "cell_type": "code",
   "execution_count": 4,
   "id": "7ac62499",
   "metadata": {},
   "outputs": [
    {
     "data": {
      "text/html": [
       "<div>\n",
       "<style scoped>\n",
       "    .dataframe tbody tr th:only-of-type {\n",
       "        vertical-align: middle;\n",
       "    }\n",
       "\n",
       "    .dataframe tbody tr th {\n",
       "        vertical-align: top;\n",
       "    }\n",
       "\n",
       "    .dataframe thead th {\n",
       "        text-align: right;\n",
       "    }\n",
       "</style>\n",
       "<table border=\"1\" class=\"dataframe\">\n",
       "  <thead>\n",
       "    <tr style=\"text-align: right;\">\n",
       "      <th></th>\n",
       "      <th>Full_Name</th>\n",
       "      <th>First_Name</th>\n",
       "      <th>Last_Name</th>\n",
       "      <th>Gender</th>\n",
       "      <th>Date_of_Birth</th>\n",
       "      <th>Hire_Date</th>\n",
       "      <th>Email</th>\n",
       "      <th>Age</th>\n",
       "      <th>Experience_Years</th>\n",
       "      <th>City</th>\n",
       "      <th>Job_Title</th>\n",
       "      <th>Marital_Status</th>\n",
       "      <th>Education_Level</th>\n",
       "      <th>Salary</th>\n",
       "    </tr>\n",
       "  </thead>\n",
       "  <tbody>\n",
       "    <tr>\n",
       "      <th>0</th>\n",
       "      <td>Abdelrahman Saad</td>\n",
       "      <td>Abdelrahman</td>\n",
       "      <td>Saad</td>\n",
       "      <td>M</td>\n",
       "      <td>09/26/1997</td>\n",
       "      <td>12/05/2025</td>\n",
       "      <td>abdelrahman.saad@gmail.com</td>\n",
       "      <td>28.0</td>\n",
       "      <td>0</td>\n",
       "      <td>Dubai, UAE</td>\n",
       "      <td>Software Developer</td>\n",
       "      <td>Single</td>\n",
       "      <td>M.Sc.</td>\n",
       "      <td>NaN</td>\n",
       "    </tr>\n",
       "    <tr>\n",
       "      <th>1</th>\n",
       "      <td>Nada Hany</td>\n",
       "      <td>Nada</td>\n",
       "      <td>Hany</td>\n",
       "      <td>F</td>\n",
       "      <td>1971/09/02</td>\n",
       "      <td>2021/11/30</td>\n",
       "      <td>nhany@gmail.com</td>\n",
       "      <td>54.0</td>\n",
       "      <td>4</td>\n",
       "      <td>Mexico City, Mexico</td>\n",
       "      <td>data scinetist</td>\n",
       "      <td>S</td>\n",
       "      <td>B.Sc.</td>\n",
       "      <td>4274.58 CAD</td>\n",
       "    </tr>\n",
       "    <tr>\n",
       "      <th>2</th>\n",
       "      <td>Hala Nader</td>\n",
       "      <td>Hala</td>\n",
       "      <td>Nader</td>\n",
       "      <td>F</td>\n",
       "      <td>1995/02/05</td>\n",
       "      <td>2015/05/11</td>\n",
       "      <td>hnader@gmail.com</td>\n",
       "      <td>30.0</td>\n",
       "      <td>10</td>\n",
       "      <td>Istanbul, Turkey</td>\n",
       "      <td>*data scinetist</td>\n",
       "      <td>Single</td>\n",
       "      <td>High School</td>\n",
       "      <td>11177.08 EGP</td>\n",
       "    </tr>\n",
       "    <tr>\n",
       "      <th>3</th>\n",
       "      <td>Dina Nashaat</td>\n",
       "      <td>Dina</td>\n",
       "      <td>Nashaat</td>\n",
       "      <td>F</td>\n",
       "      <td>06/08/2001</td>\n",
       "      <td>02/04/2023</td>\n",
       "      <td>dina.nashaat@gmail.com</td>\n",
       "      <td>24.0</td>\n",
       "      <td>3</td>\n",
       "      <td>Bangkok, Thailand</td>\n",
       "      <td>Pharmacist</td>\n",
       "      <td>Single</td>\n",
       "      <td>B.Sc.</td>\n",
       "      <td>67749.0 USD</td>\n",
       "    </tr>\n",
       "    <tr>\n",
       "      <th>4</th>\n",
       "      <td>Eslam Fady</td>\n",
       "      <td>Eslam</td>\n",
       "      <td>Fady</td>\n",
       "      <td>M</td>\n",
       "      <td>03/16/1976</td>\n",
       "      <td>02/18/2007</td>\n",
       "      <td>eslam.fady@gmail.com</td>\n",
       "      <td>49.0</td>\n",
       "      <td>19</td>\n",
       "      <td>Dubai, UAE</td>\n",
       "      <td>CIVIL ENGINEER</td>\n",
       "      <td>Married</td>\n",
       "      <td>B.Sc.</td>\n",
       "      <td>135173.0 JPY</td>\n",
       "    </tr>\n",
       "  </tbody>\n",
       "</table>\n",
       "</div>"
      ],
      "text/plain": [
       "          Full_Name   First_Name Last_Name Gender Date_of_Birth   Hire_Date  \\\n",
       "0  Abdelrahman Saad  Abdelrahman      Saad      M    09/26/1997  12/05/2025   \n",
       "1         Nada Hany         Nada      Hany      F    1971/09/02  2021/11/30   \n",
       "2        Hala Nader         Hala     Nader      F    1995/02/05  2015/05/11   \n",
       "3      Dina Nashaat         Dina   Nashaat      F    06/08/2001  02/04/2023   \n",
       "4        Eslam Fady        Eslam      Fady      M    03/16/1976  02/18/2007   \n",
       "\n",
       "                        Email   Age  Experience_Years                 City  \\\n",
       "0  abdelrahman.saad@gmail.com  28.0                 0           Dubai, UAE   \n",
       "1             nhany@gmail.com  54.0                 4  Mexico City, Mexico   \n",
       "2            hnader@gmail.com  30.0                10     Istanbul, Turkey   \n",
       "3      dina.nashaat@gmail.com  24.0                 3    Bangkok, Thailand   \n",
       "4        eslam.fady@gmail.com  49.0                19           Dubai, UAE   \n",
       "\n",
       "            Job_Title Marital_Status Education_Level        Salary  \n",
       "0  Software Developer         Single           M.Sc.           NaN  \n",
       "1      data scinetist              S           B.Sc.   4274.58 CAD  \n",
       "2     *data scinetist         Single     High School  11177.08 EGP  \n",
       "3          Pharmacist         Single           B.Sc.   67749.0 USD  \n",
       "4      CIVIL ENGINEER        Married           B.Sc.  135173.0 JPY  "
      ]
     },
     "execution_count": 4,
     "metadata": {},
     "output_type": "execute_result"
    }
   ],
   "source": [
    "data_path = os.getenv(\"data_path\")\n",
    "df = pd.read_csv(data_path)\n",
    "df.head(5)"
   ]
  },
  {
   "cell_type": "code",
   "execution_count": 5,
   "id": "29e6eb76",
   "metadata": {},
   "outputs": [
    {
     "name": "stdout",
     "output_type": "stream",
     "text": [
      "<class 'pandas.core.frame.DataFrame'>\n",
      "RangeIndex: 20000 entries, 0 to 19999\n",
      "Data columns (total 14 columns):\n",
      " #   Column            Non-Null Count  Dtype  \n",
      "---  ------            --------------  -----  \n",
      " 0   Full_Name         20000 non-null  object \n",
      " 1   First_Name        20000 non-null  object \n",
      " 2   Last_Name         20000 non-null  object \n",
      " 3   Gender            20000 non-null  object \n",
      " 4   Date_of_Birth     20000 non-null  object \n",
      " 5   Hire_Date         20000 non-null  object \n",
      " 6   Email             20000 non-null  object \n",
      " 7   Age               16777 non-null  float64\n",
      " 8   Experience_Years  20000 non-null  int64  \n",
      " 9   City              20000 non-null  object \n",
      " 10  Job_Title         20000 non-null  object \n",
      " 11  Marital_Status    19021 non-null  object \n",
      " 12  Education_Level   20000 non-null  object \n",
      " 13  Salary            16453 non-null  object \n",
      "dtypes: float64(1), int64(1), object(12)\n",
      "memory usage: 2.1+ MB\n"
     ]
    }
   ],
   "source": [
    "df.info()"
   ]
  },
  {
   "cell_type": "markdown",
   "id": "944358c1",
   "metadata": {},
   "source": [
    "## 🧹 Data Cleaning & Preprocessing\n",
    "\n",
    "- Removed unnecessary columns (`First_Name`, `Last_Name`)\n",
    "- Standardized and converted the Date_of_Birth and Hire_Date columns to datetime format.\n",
    "- Stripped whitespace and fixed capitalization in `Email`.\n",
    "- Handled inconsistent date formats using `dateutil` parser.\n",
    "- Filled missing `Age` values based on `Date_of_Birth` and converted to `int`.\n",
    "- Extracted `City` and `Country` into separate columns.\n",
    "- Cleaned `Job_Title` by:\n",
    "  - Removing symbols and typos.\n",
    "  - Standardizing names (e.g., `Teachr` → `Teacher`, `Sales Manger` → `Sales Manager`).\n",
    "- Standardized `Marital_Status` values (`M`, `S`, etc.).\n",
    "- Shortened `Education_Level` values (`Bachelor`, `Master`, etc.).\n",
    "- Split `Salary` into:\n",
    "  - `Salary_Amount` (as `int`)\n",
    "  - `Salary_Currency`\n",
    "- Filled missing salaries using the average for same `Job_Title` and `Country`.\n",
    "- Standardized currency for countries where missing.\n",
    "- Cleaned city and country names from special characters and typos.\n"
   ]
  },
  {
   "cell_type": "code",
   "execution_count": 6,
   "id": "0129fa72",
   "metadata": {},
   "outputs": [
    {
     "data": {
      "text/html": [
       "<div>\n",
       "<style scoped>\n",
       "    .dataframe tbody tr th:only-of-type {\n",
       "        vertical-align: middle;\n",
       "    }\n",
       "\n",
       "    .dataframe tbody tr th {\n",
       "        vertical-align: top;\n",
       "    }\n",
       "\n",
       "    .dataframe thead th {\n",
       "        text-align: right;\n",
       "    }\n",
       "</style>\n",
       "<table border=\"1\" class=\"dataframe\">\n",
       "  <thead>\n",
       "    <tr style=\"text-align: right;\">\n",
       "      <th></th>\n",
       "      <th>Full_Name</th>\n",
       "      <th>Gender</th>\n",
       "      <th>Date_of_Birth</th>\n",
       "      <th>Hire_Date</th>\n",
       "      <th>Email</th>\n",
       "      <th>Age</th>\n",
       "      <th>Experience_Years</th>\n",
       "      <th>City</th>\n",
       "      <th>Job_Title</th>\n",
       "      <th>Marital_Status</th>\n",
       "      <th>Education_Level</th>\n",
       "      <th>Salary</th>\n",
       "    </tr>\n",
       "  </thead>\n",
       "  <tbody>\n",
       "    <tr>\n",
       "      <th>0</th>\n",
       "      <td>Abdelrahman Saad</td>\n",
       "      <td>M</td>\n",
       "      <td>09/26/1997</td>\n",
       "      <td>12/05/2025</td>\n",
       "      <td>abdelrahman.saad@gmail.com</td>\n",
       "      <td>28.0</td>\n",
       "      <td>0</td>\n",
       "      <td>Dubai, UAE</td>\n",
       "      <td>Software Developer</td>\n",
       "      <td>Single</td>\n",
       "      <td>M.Sc.</td>\n",
       "      <td>NaN</td>\n",
       "    </tr>\n",
       "    <tr>\n",
       "      <th>1</th>\n",
       "      <td>Nada Hany</td>\n",
       "      <td>F</td>\n",
       "      <td>1971/09/02</td>\n",
       "      <td>2021/11/30</td>\n",
       "      <td>nhany@gmail.com</td>\n",
       "      <td>54.0</td>\n",
       "      <td>4</td>\n",
       "      <td>Mexico City, Mexico</td>\n",
       "      <td>data scinetist</td>\n",
       "      <td>S</td>\n",
       "      <td>B.Sc.</td>\n",
       "      <td>4274.58 CAD</td>\n",
       "    </tr>\n",
       "    <tr>\n",
       "      <th>2</th>\n",
       "      <td>Hala Nader</td>\n",
       "      <td>F</td>\n",
       "      <td>1995/02/05</td>\n",
       "      <td>2015/05/11</td>\n",
       "      <td>hnader@gmail.com</td>\n",
       "      <td>30.0</td>\n",
       "      <td>10</td>\n",
       "      <td>Istanbul, Turkey</td>\n",
       "      <td>*data scinetist</td>\n",
       "      <td>Single</td>\n",
       "      <td>High School</td>\n",
       "      <td>11177.08 EGP</td>\n",
       "    </tr>\n",
       "    <tr>\n",
       "      <th>3</th>\n",
       "      <td>Dina Nashaat</td>\n",
       "      <td>F</td>\n",
       "      <td>06/08/2001</td>\n",
       "      <td>02/04/2023</td>\n",
       "      <td>dina.nashaat@gmail.com</td>\n",
       "      <td>24.0</td>\n",
       "      <td>3</td>\n",
       "      <td>Bangkok, Thailand</td>\n",
       "      <td>Pharmacist</td>\n",
       "      <td>Single</td>\n",
       "      <td>B.Sc.</td>\n",
       "      <td>67749.0 USD</td>\n",
       "    </tr>\n",
       "    <tr>\n",
       "      <th>4</th>\n",
       "      <td>Eslam Fady</td>\n",
       "      <td>M</td>\n",
       "      <td>03/16/1976</td>\n",
       "      <td>02/18/2007</td>\n",
       "      <td>eslam.fady@gmail.com</td>\n",
       "      <td>49.0</td>\n",
       "      <td>19</td>\n",
       "      <td>Dubai, UAE</td>\n",
       "      <td>CIVIL ENGINEER</td>\n",
       "      <td>Married</td>\n",
       "      <td>B.Sc.</td>\n",
       "      <td>135173.0 JPY</td>\n",
       "    </tr>\n",
       "    <tr>\n",
       "      <th>...</th>\n",
       "      <td>...</td>\n",
       "      <td>...</td>\n",
       "      <td>...</td>\n",
       "      <td>...</td>\n",
       "      <td>...</td>\n",
       "      <td>...</td>\n",
       "      <td>...</td>\n",
       "      <td>...</td>\n",
       "      <td>...</td>\n",
       "      <td>...</td>\n",
       "      <td>...</td>\n",
       "      <td>...</td>\n",
       "    </tr>\n",
       "    <tr>\n",
       "      <th>19995</th>\n",
       "      <td>Esraa Hatem</td>\n",
       "      <td>F</td>\n",
       "      <td>14-06-1967</td>\n",
       "      <td>07-04-2021</td>\n",
       "      <td>esraa.hatem@gmail.com</td>\n",
       "      <td>NaN</td>\n",
       "      <td>4</td>\n",
       "      <td>Doha, Qatar</td>\n",
       "      <td>sales manager</td>\n",
       "      <td>Single</td>\n",
       "      <td>High School</td>\n",
       "      <td>4284.92 GBP</td>\n",
       "    </tr>\n",
       "    <tr>\n",
       "      <th>19996</th>\n",
       "      <td>Asmaa Sherif</td>\n",
       "      <td>F</td>\n",
       "      <td>10-07-1986</td>\n",
       "      <td>17-01-2014</td>\n",
       "      <td>asmaa.sherif@gmail.com</td>\n",
       "      <td>39.0</td>\n",
       "      <td>12</td>\n",
       "      <td>Rabat, Morocco</td>\n",
       "      <td>Engineer</td>\n",
       "      <td>Single</td>\n",
       "      <td>Diploma</td>\n",
       "      <td>109829.0 EGP</td>\n",
       "    </tr>\n",
       "    <tr>\n",
       "      <th>19997</th>\n",
       "      <td>Maha Nashaat</td>\n",
       "      <td>F</td>\n",
       "      <td>10/28/1979</td>\n",
       "      <td>11/20/2000</td>\n",
       "      <td>maha.nashaat@gmail.com</td>\n",
       "      <td>46.0</td>\n",
       "      <td>25</td>\n",
       "      <td>Beirut, Lebanon</td>\n",
       "      <td>Data Scientist</td>\n",
       "      <td>Married</td>\n",
       "      <td>BS</td>\n",
       "      <td>142056.0 USD</td>\n",
       "    </tr>\n",
       "    <tr>\n",
       "      <th>19998</th>\n",
       "      <td>Tarek Mohamed</td>\n",
       "      <td>M</td>\n",
       "      <td>1996/09/17</td>\n",
       "      <td>2015/03/24</td>\n",
       "      <td>tmohamed@gmail.com</td>\n",
       "      <td>29.0</td>\n",
       "      <td>10</td>\n",
       "      <td>Istanbul, Turkey</td>\n",
       "      <td>Accountant</td>\n",
       "      <td>Unknown</td>\n",
       "      <td>PhD</td>\n",
       "      <td>115194.0 EGP</td>\n",
       "    </tr>\n",
       "    <tr>\n",
       "      <th>19999</th>\n",
       "      <td>Kareem Jamal</td>\n",
       "      <td>M</td>\n",
       "      <td>02/09/1997</td>\n",
       "      <td>01/18/2024</td>\n",
       "      <td>kareem.jamal@gmail.com</td>\n",
       "      <td>28.0</td>\n",
       "      <td>2</td>\n",
       "      <td>London, UK</td>\n",
       "      <td>sales manager</td>\n",
       "      <td>Single</td>\n",
       "      <td>PhD</td>\n",
       "      <td>4626.17 USD</td>\n",
       "    </tr>\n",
       "  </tbody>\n",
       "</table>\n",
       "<p>20000 rows × 12 columns</p>\n",
       "</div>"
      ],
      "text/plain": [
       "              Full_Name Gender Date_of_Birth   Hire_Date  \\\n",
       "0      Abdelrahman Saad      M    09/26/1997  12/05/2025   \n",
       "1             Nada Hany      F    1971/09/02  2021/11/30   \n",
       "2            Hala Nader      F    1995/02/05  2015/05/11   \n",
       "3          Dina Nashaat      F    06/08/2001  02/04/2023   \n",
       "4            Eslam Fady      M    03/16/1976  02/18/2007   \n",
       "...                 ...    ...           ...         ...   \n",
       "19995       Esraa Hatem      F    14-06-1967  07-04-2021   \n",
       "19996      Asmaa Sherif      F    10-07-1986  17-01-2014   \n",
       "19997      Maha Nashaat      F    10/28/1979  11/20/2000   \n",
       "19998     Tarek Mohamed      M    1996/09/17  2015/03/24   \n",
       "19999      Kareem Jamal      M    02/09/1997  01/18/2024   \n",
       "\n",
       "                            Email   Age  Experience_Years  \\\n",
       "0      abdelrahman.saad@gmail.com  28.0                 0   \n",
       "1                 nhany@gmail.com  54.0                 4   \n",
       "2                hnader@gmail.com  30.0                10   \n",
       "3          dina.nashaat@gmail.com  24.0                 3   \n",
       "4            eslam.fady@gmail.com  49.0                19   \n",
       "...                           ...   ...               ...   \n",
       "19995       esraa.hatem@gmail.com   NaN                 4   \n",
       "19996      asmaa.sherif@gmail.com  39.0                12   \n",
       "19997      maha.nashaat@gmail.com  46.0                25   \n",
       "19998          tmohamed@gmail.com  29.0                10   \n",
       "19999      kareem.jamal@gmail.com  28.0                 2   \n",
       "\n",
       "                      City           Job_Title Marital_Status Education_Level  \\\n",
       "0               Dubai, UAE  Software Developer         Single           M.Sc.   \n",
       "1      Mexico City, Mexico      data scinetist              S           B.Sc.   \n",
       "2         Istanbul, Turkey     *data scinetist         Single     High School   \n",
       "3        Bangkok, Thailand          Pharmacist         Single           B.Sc.   \n",
       "4               Dubai, UAE      CIVIL ENGINEER        Married           B.Sc.   \n",
       "...                    ...                 ...            ...             ...   \n",
       "19995          Doha, Qatar       sales manager         Single     High School   \n",
       "19996       Rabat, Morocco            Engineer         Single         Diploma   \n",
       "19997      Beirut, Lebanon      Data Scientist        Married              BS   \n",
       "19998     Istanbul, Turkey          Accountant        Unknown             PhD   \n",
       "19999           London, UK       sales manager         Single             PhD   \n",
       "\n",
       "             Salary  \n",
       "0               NaN  \n",
       "1       4274.58 CAD  \n",
       "2      11177.08 EGP  \n",
       "3       67749.0 USD  \n",
       "4      135173.0 JPY  \n",
       "...             ...  \n",
       "19995   4284.92 GBP  \n",
       "19996  109829.0 EGP  \n",
       "19997  142056.0 USD  \n",
       "19998  115194.0 EGP  \n",
       "19999   4626.17 USD  \n",
       "\n",
       "[20000 rows x 12 columns]"
      ]
     },
     "execution_count": 6,
     "metadata": {},
     "output_type": "execute_result"
    }
   ],
   "source": [
    "df.drop(columns=['First_Name', 'Last_Name'])"
   ]
  },
  {
   "cell_type": "code",
   "execution_count": 7,
   "id": "8fd0464d",
   "metadata": {},
   "outputs": [
    {
     "name": "stdout",
     "output_type": "stream",
     "text": [
      "['07/15/1972', '1999/05/05', '1972/08/06', '11/22/1996', '15-08-1999', '1977/05/27', '1979/04/08', '1982/06/11', '22-08-1967', '1991/04/04']\n"
     ]
    }
   ],
   "source": [
    "#printing sample of dates in Date_of_Birth col Before cleaning and validation\n",
    "print(df['Date_of_Birth'].sample(10).to_list())"
   ]
  },
  {
   "cell_type": "code",
   "execution_count": 8,
   "id": "db1cc869",
   "metadata": {},
   "outputs": [
    {
     "name": "stdout",
     "output_type": "stream",
     "text": [
      "[Timestamp('2003-12-20 00:00:00'), Timestamp('1981-07-02 00:00:00'), Timestamp('1978-11-07 00:00:00'), Timestamp('1994-03-24 00:00:00'), Timestamp('1967-09-21 00:00:00')]\n"
     ]
    }
   ],
   "source": [
    "# Replace all common separators with a standard hyphen\n",
    "df['Date_of_Birth'] = df['Date_of_Birth'].str.replace(r'[/\\\\., ]', '-', regex=True)\n",
    "\n",
    "def parse_date(date_str):\n",
    "    # Common date formats to try (including month-first and day-first)\n",
    "    formats = [\n",
    "        '%d-%m-%Y', '%Y-%m-%d',  # Day-Month-Year and Year-Month-Day\n",
    "        '%m-%d-%Y', '%Y-%d-%m',  # Month-Day-Year and Year-Day-Month\n",
    "        ]\n",
    "    \n",
    "    for fmt in formats:\n",
    "        try:\n",
    "            return pd.to_datetime(date_str, format=fmt, exact=True)\n",
    "        except ValueError:\n",
    "            continue\n",
    "    return pd.NaT\n",
    "\n",
    "df['Date_of_Birth'] = pd.to_datetime(df['Date_of_Birth'], format='mixed')\n",
    "\n",
    "#printing sample of dates in Date_of_Birth col After cleaning and validation\n",
    "print(df['Date_of_Birth'].sample(5).to_list())"
   ]
  },
  {
   "cell_type": "code",
   "execution_count": 9,
   "id": "7fb1c5ce",
   "metadata": {},
   "outputs": [
    {
     "name": "stdout",
     "output_type": "stream",
     "text": [
      "['2025/02/06', '05-01-2025', '2019/06/24', '27-06-2025', '06-08-2007', '09/03/2025', '27-01-1994', '09/17/2017', '11/21/2022', '2019/06/05']\n"
     ]
    }
   ],
   "source": [
    "#printing sample of dates in Hire_Date col Before cleaning and validation\n",
    "print(df['Hire_Date'].sample(10).to_list())"
   ]
  },
  {
   "cell_type": "code",
   "execution_count": 10,
   "id": "e158319f",
   "metadata": {},
   "outputs": [
    {
     "name": "stdout",
     "output_type": "stream",
     "text": [
      "[Timestamp('2008-07-20 00:00:00'), Timestamp('2018-09-27 00:00:00'), Timestamp('2016-04-22 00:00:00'), Timestamp('2012-01-28 00:00:00'), Timestamp('2025-03-08 00:00:00')]\n"
     ]
    }
   ],
   "source": [
    "# Replace all common separators with a standard hyphen\n",
    "df['Hire_Date'] = df['Hire_Date'].str.replace(r'[/\\\\., ]', '-', regex=True)\n",
    "\n",
    "\n",
    "def parse_date(date_str):\n",
    "    # Common date formats to try (including month-first and day-first)\n",
    "    formats = [\n",
    "        '%d-%m-%Y', '%Y-%m-%d',  # Day-Month-Year and Year-Month-Day\n",
    "        '%m-%d-%Y', '%Y-%d-%m',  # Month-Day-Year and Year-Day-Month\n",
    "        ]\n",
    "    \n",
    "    for fmt in formats:\n",
    "        try:\n",
    "            return pd.to_datetime(date_str, format=fmt, exact=True)\n",
    "        except ValueError:\n",
    "            continue\n",
    "    return pd.NaT\n",
    "\n",
    "df['Hire_Date'] = pd.to_datetime(df['Hire_Date'], format='mixed')\n",
    "\n",
    "#printing sample of dates in Hire_Date col After cleaning and validation\n",
    "print(df['Hire_Date'].sample(5).to_list())"
   ]
  },
  {
   "cell_type": "code",
   "execution_count": 11,
   "id": "714bb03a",
   "metadata": {},
   "outputs": [
    {
     "name": "stdout",
     "output_type": "stream",
     "text": [
      "1661        salma.bassem@gmail.com\n",
      "16528       ibrahim.ramy@gmail.com\n",
      "12217         lobna.omar@gmail.com\n",
      "5548              shatem@gmail.com\n",
      "2357        mounir.fouad@gmail.com\n",
      "3434          adel.ayman@gmail.com\n",
      "13407      mariam.bassem@gmail.com\n",
      "378                aramy@gmail.com\n",
      "2690        ASMAA.ASHRAF@GMAIL.COM\n",
      "13668     lobna.tamer at gmail.com\n",
      "11989    abdullah.kareem@gmail.com\n",
      "1022           AMAL.IHAB@GMAIL.COM\n",
      "5219        galal.kareem@gmail.com\n",
      "3921              mrafik@gmail.com\n",
      "9248          layla.wael@gmail.com\n",
      "13533           ayoussef@gmail.com\n",
      "1845        KHADIJA.HANY@GMAIL.COM\n",
      "7201             ssherif@gmail.com\n",
      "3147               lomar@gmail.com\n",
      "13621       noha.hussein@gmail.com\n",
      "Name: Email, dtype: object\n"
     ]
    }
   ],
   "source": [
    "#showing a sample of emails in the DataFrame Before Cleaning and Validation\n",
    "print(df['Email'].sample(20))"
   ]
  },
  {
   "cell_type": "code",
   "execution_count": 12,
   "id": "694475c3",
   "metadata": {},
   "outputs": [
    {
     "name": "stdout",
     "output_type": "stream",
     "text": [
      "7660              ktawfik@gmail.com\n",
      "1063            adel.wael@gmail.com\n",
      "2185     mostafa.abdullah@gmail.com\n",
      "19950         dina.kareem@gmail.com\n",
      "11862             kkhaled@gmail.com\n",
      "11237            smohamed@gmail.com\n",
      "0        abdelrahman.saad@gmail.com\n",
      "4949        galal.mahmoud@gmail.com\n",
      "14909             hhassan@gmail.com\n",
      "17541              lyahya@gmail.com\n",
      "8960          galal.fouad@gmail.com\n",
      "6465           zaki.latif@gmail.com\n",
      "11720          wahid.hany@gmail.com\n",
      "17853         zainab.adel@gmail.com\n",
      "8076        yahya.mostafa@gmail.com\n",
      "11656              nhatem@gmail.com\n",
      "4283          jamal.latif@gmail.com\n",
      "15973         hanan.osama@gmail.com\n",
      "11996           noha.zaki@gmail.com\n",
      "16773     fatima.abdullah@gmail.com\n",
      "Name: Email, dtype: object\n"
     ]
    }
   ],
   "source": [
    "df['Email'] = df['Email'].str.strip().str.lower()\n",
    "df['Email'] = df['Email'].str.replace(r'\\s+at\\s+', '@', regex=True)\n",
    "\n",
    "#df['Email'] = df['Email'].str.strip()\n",
    "\n",
    "#showing a sample of emails in the DataFrame After Cleaning and Validation\n",
    "print(df['Email'].sample(20))"
   ]
  },
  {
   "cell_type": "code",
   "execution_count": 13,
   "id": "92729441",
   "metadata": {},
   "outputs": [],
   "source": [
    "today = pd.to_datetime('today')\n",
    "\n",
    "#Filling missing data in Age col by calc diff between date of birth and today date and conv age type to int\n",
    "df['Age'] = df['Age'].fillna((today - df['Date_of_Birth']).dt.days // 365)\n",
    "df['Age'] = df['Age'].astype(int)"
   ]
  },
  {
   "cell_type": "code",
   "execution_count": 14,
   "id": "4773f9c7",
   "metadata": {},
   "outputs": [
    {
     "data": {
      "text/plain": [
       "13151          Dammam, KSA\n",
       "13121          Doha, Qatar\n",
       "16700    São Paulo, Brazil\n",
       "13369      Beirut, Lebanon\n",
       "6297       Beirut, Lebanon\n",
       "4711     Sydney, Australia\n",
       "7181      Los Angeles, USA\n",
       "4701         Mumbai, India\n",
       "5520      Istanbul, Turkey\n",
       "9994     Alexandria, Egypt\n",
       "Name: City, dtype: object"
      ]
     },
     "execution_count": 14,
     "metadata": {},
     "output_type": "execute_result"
    }
   ],
   "source": [
    "#showing a sample of values in city col Before feature engineering and validation\n",
    "df[\"City\"].sample(10)"
   ]
  },
  {
   "cell_type": "code",
   "execution_count": 15,
   "id": "9423fbd3",
   "metadata": {},
   "outputs": [],
   "source": [
    "df[['City', 'Country']] = df['City'].str.split(',', expand=True)\n",
    "\n",
    "df['City'] = df['City'].str.strip()\n",
    "df['Country'] = df['Country'].str.strip()\n"
   ]
  },
  {
   "cell_type": "code",
   "execution_count": 16,
   "id": "dcdf62ac",
   "metadata": {},
   "outputs": [
    {
     "data": {
      "text/plain": [
       "array(['Dubai', 'Mexico City', 'Istanbul', 'Bangkok', 'Seoul', 'Dammam',\n",
       "       'Kuw@it City', 'Kuwait City', 'Sydney', 'Los Angeles',\n",
       "       'Buenos Aires', 'Rabat', 'Muscat', 'New York', 'Toronto',\n",
       "       'São Paulo', 'Moscow', 'Cape Town', 'London', 'Alexandria',\n",
       "       'Paris', 'Abu Dhabi', 'Beirut', 'Riyadh', 'Tokyo', 'Sharjah',\n",
       "       'Doha', 'Mansoura', 'Mumbai', 'Jeddah', 'Amman', 'Beijing',\n",
       "       'Cairo', 'R@b@t', 'M3xico City', 'Berlin', 'S3oul', 'P@ris',\n",
       "       'J3dd@h', 'N3w York', 'B3irut', 'Musc@t', 'Mumb@i', 'C@p3 Town',\n",
       "       'Los Ang3l3s', 'B@ngkok', 'Abu Dh@bi', 'Al3x@ndri@', 'Doh@',\n",
       "       'Dub@i', 'Bu3nos Air3s', 'Riy@dh', 'Sh@rj@h', 'C@iro', 'D@mm@m',\n",
       "       'Ist@nbul', 'B3ijing', 'B3rlin', 'Amm@n', 'M@nsour@', 'São P@ulo',\n",
       "       'Sydn3y'], dtype=object)"
      ]
     },
     "execution_count": 16,
     "metadata": {},
     "output_type": "execute_result"
    }
   ],
   "source": [
    "#showing City col unique values before cleaning it\n",
    "df[\"City\"].unique()"
   ]
  },
  {
   "cell_type": "code",
   "execution_count": 17,
   "id": "5b3c4d23",
   "metadata": {},
   "outputs": [
    {
     "data": {
      "text/plain": [
       "array(['Dubai', 'Mexico City', 'Istanbul', 'Bangkok', 'Seoul', 'Dammam',\n",
       "       'Kuwait City', 'Sydney', 'Los Angeles', 'Buenos Aires', 'Rabat',\n",
       "       'Muscat', 'New York', 'Toronto', 'São Paulo', 'Moscow',\n",
       "       'Cape Town', 'London', 'Alexandria', 'Paris', 'Abu Dhabi',\n",
       "       'Beirut', 'Riyadh', 'Tokyo', 'Sharjah', 'Doha', 'Mansoura',\n",
       "       'Mumbai', 'Jeddah', 'Amman', 'Beijing', 'Cairo', 'Berlin'],\n",
       "      dtype=object)"
      ]
     },
     "execution_count": 17,
     "metadata": {},
     "output_type": "execute_result"
    }
   ],
   "source": [
    "# Replace common noise characters\n",
    "df['City'] = df['City'].str.replace(r'@', 'a', regex=True)\n",
    "df['City'] = df['City'].str.replace(r'3', 'e', regex=True)\n",
    "\n",
    "# Title-case the city names\n",
    "df['City'] = df['City'].str.title()\n",
    "\n",
    "# Manual corrections (if needed)\n",
    "corrections = {\n",
    "    'S3oul': 'Seoul',\n",
    "    'Bngkok': 'Bangkok',  # Just in case auto-clean missed some\n",
    "    'Rbat': 'Rabat',\n",
    "    'Riyadhh': 'Riyadh',  # Example\n",
    "    # Add any other tricky ones here\n",
    "}\n",
    "\n",
    "df['City'] = df['City'].replace(corrections)\n",
    "\n",
    "\n",
    "#showing City col unique values After cleaning it\n",
    "df[\"City\"].unique()"
   ]
  },
  {
   "cell_type": "code",
   "execution_count": 18,
   "id": "3b109ec2",
   "metadata": {},
   "outputs": [
    {
     "data": {
      "text/plain": [
       "array(['UAE', 'Mexico', 'Turkey', 'Thailand', 'South Korea', 'KSA',\n",
       "       'Kuw@it', 'Kuwait', 'Australia', 'USA', 'Argentina', 'Morocco',\n",
       "       'Oman', 'Canada', 'Brazil', 'Russia', 'South Africa', 'UK',\n",
       "       'Egypt', 'France', 'Lebanon', 'Japan', 'Qatar', 'India', 'Jordan',\n",
       "       'China', 'M3xico', 'Germany', 'South Kor3@', 'Russi@', 'Fr@nc3',\n",
       "       'L3b@non', 'Om@n', 'Indi@', 'South Afric@', 'J@p@n', 'Th@il@nd',\n",
       "       'Q@t@r', 'Arg3ntin@', 'C@n@d@', 'Turk3y', 'Chin@', 'G3rm@ny',\n",
       "       'Jord@n', 'Br@zil', 'Austr@li@'], dtype=object)"
      ]
     },
     "execution_count": 18,
     "metadata": {},
     "output_type": "execute_result"
    }
   ],
   "source": [
    "#showing Country col unique values Before cleaning it\n",
    "df[\"Country\"].unique()"
   ]
  },
  {
   "cell_type": "code",
   "execution_count": 19,
   "id": "b967e75d",
   "metadata": {},
   "outputs": [
    {
     "data": {
      "text/plain": [
       "array(['United Arab Emirates', 'Mexico', 'Turkey', 'Thailand',\n",
       "       'South Korea', 'Saudi Arabia', 'Kuwait', 'Australia',\n",
       "       'United States', 'Argentina', 'Morocco', 'Oman', 'Canada',\n",
       "       'Brazil', 'Russia', 'South Africa', 'United Kingdom', 'Egypt',\n",
       "       'France', 'Lebanon', 'Japan', 'Qatar', 'India', 'Jordan', 'China',\n",
       "       'Germany'], dtype=object)"
      ]
     },
     "execution_count": 19,
     "metadata": {},
     "output_type": "execute_result"
    }
   ],
   "source": [
    "# Step 1: Replace noisy characters\n",
    "df['Country'] = df['Country'].str.replace(r'@', 'a', regex=True)\n",
    "df['Country'] = df['Country'].str.replace(r'3', 'e', regex=True)\n",
    "\n",
    "# Step 2: Standardize casing (optional: upper/lower/title)\n",
    "df['Country'] = df['Country'].str.title()\n",
    "\n",
    "# Step 3: Manual fixes for known abbreviations or typos\n",
    "corrections = {\n",
    "    'Ksa': 'Saudi Arabia',\n",
    "    'Uae': 'United Arab Emirates',\n",
    "    'Uk': 'United Kingdom',\n",
    "    'Usa': 'United States',\n",
    "    'South Korea': 'South Korea',\n",
    "    'South Afrika': 'South Africa',  # In case of common misspellings\n",
    "    'MexiCo': 'Mexico'\n",
    "    # Add more if needed\n",
    "}\n",
    "\n",
    "df['Country'] = df['Country'].replace(corrections)\n",
    "\n",
    "#showing Country col unique values After cleaning it\n",
    "df[\"Country\"].unique()\n"
   ]
  },
  {
   "cell_type": "code",
   "execution_count": 20,
   "id": "be0e3167",
   "metadata": {},
   "outputs": [
    {
     "data": {
      "text/html": [
       "<div>\n",
       "<style scoped>\n",
       "    .dataframe tbody tr th:only-of-type {\n",
       "        vertical-align: middle;\n",
       "    }\n",
       "\n",
       "    .dataframe tbody tr th {\n",
       "        vertical-align: top;\n",
       "    }\n",
       "\n",
       "    .dataframe thead th {\n",
       "        text-align: right;\n",
       "    }\n",
       "</style>\n",
       "<table border=\"1\" class=\"dataframe\">\n",
       "  <thead>\n",
       "    <tr style=\"text-align: right;\">\n",
       "      <th></th>\n",
       "      <th>City</th>\n",
       "      <th>Country</th>\n",
       "    </tr>\n",
       "  </thead>\n",
       "  <tbody>\n",
       "    <tr>\n",
       "      <th>1895</th>\n",
       "      <td>New York</td>\n",
       "      <td>United States</td>\n",
       "    </tr>\n",
       "    <tr>\n",
       "      <th>1730</th>\n",
       "      <td>Cape Town</td>\n",
       "      <td>South Africa</td>\n",
       "    </tr>\n",
       "    <tr>\n",
       "      <th>14154</th>\n",
       "      <td>Rabat</td>\n",
       "      <td>Morocco</td>\n",
       "    </tr>\n",
       "    <tr>\n",
       "      <th>13084</th>\n",
       "      <td>Sydney</td>\n",
       "      <td>Australia</td>\n",
       "    </tr>\n",
       "    <tr>\n",
       "      <th>3105</th>\n",
       "      <td>Buenos Aires</td>\n",
       "      <td>Argentina</td>\n",
       "    </tr>\n",
       "    <tr>\n",
       "      <th>5141</th>\n",
       "      <td>Cairo</td>\n",
       "      <td>Egypt</td>\n",
       "    </tr>\n",
       "    <tr>\n",
       "      <th>6046</th>\n",
       "      <td>Riyadh</td>\n",
       "      <td>Saudi Arabia</td>\n",
       "    </tr>\n",
       "    <tr>\n",
       "      <th>17696</th>\n",
       "      <td>Mansoura</td>\n",
       "      <td>Egypt</td>\n",
       "    </tr>\n",
       "    <tr>\n",
       "      <th>14904</th>\n",
       "      <td>Doha</td>\n",
       "      <td>Qatar</td>\n",
       "    </tr>\n",
       "    <tr>\n",
       "      <th>17427</th>\n",
       "      <td>Mumbai</td>\n",
       "      <td>India</td>\n",
       "    </tr>\n",
       "    <tr>\n",
       "      <th>3546</th>\n",
       "      <td>Mumbai</td>\n",
       "      <td>India</td>\n",
       "    </tr>\n",
       "    <tr>\n",
       "      <th>15595</th>\n",
       "      <td>Mexico City</td>\n",
       "      <td>Mexico</td>\n",
       "    </tr>\n",
       "    <tr>\n",
       "      <th>4658</th>\n",
       "      <td>Beijing</td>\n",
       "      <td>China</td>\n",
       "    </tr>\n",
       "    <tr>\n",
       "      <th>6237</th>\n",
       "      <td>Los Angeles</td>\n",
       "      <td>United States</td>\n",
       "    </tr>\n",
       "    <tr>\n",
       "      <th>7455</th>\n",
       "      <td>Alexandria</td>\n",
       "      <td>Egypt</td>\n",
       "    </tr>\n",
       "    <tr>\n",
       "      <th>3320</th>\n",
       "      <td>Mexico City</td>\n",
       "      <td>Mexico</td>\n",
       "    </tr>\n",
       "    <tr>\n",
       "      <th>10454</th>\n",
       "      <td>Beirut</td>\n",
       "      <td>Lebanon</td>\n",
       "    </tr>\n",
       "    <tr>\n",
       "      <th>13565</th>\n",
       "      <td>London</td>\n",
       "      <td>United Kingdom</td>\n",
       "    </tr>\n",
       "    <tr>\n",
       "      <th>18400</th>\n",
       "      <td>Amman</td>\n",
       "      <td>Jordan</td>\n",
       "    </tr>\n",
       "    <tr>\n",
       "      <th>5963</th>\n",
       "      <td>New York</td>\n",
       "      <td>United States</td>\n",
       "    </tr>\n",
       "  </tbody>\n",
       "</table>\n",
       "</div>"
      ],
      "text/plain": [
       "               City         Country\n",
       "1895       New York   United States\n",
       "1730      Cape Town    South Africa\n",
       "14154         Rabat         Morocco\n",
       "13084        Sydney       Australia\n",
       "3105   Buenos Aires       Argentina\n",
       "5141          Cairo           Egypt\n",
       "6046         Riyadh    Saudi Arabia\n",
       "17696      Mansoura           Egypt\n",
       "14904          Doha           Qatar\n",
       "17427        Mumbai           India\n",
       "3546         Mumbai           India\n",
       "15595   Mexico City          Mexico\n",
       "4658        Beijing           China\n",
       "6237    Los Angeles   United States\n",
       "7455     Alexandria           Egypt\n",
       "3320    Mexico City          Mexico\n",
       "10454        Beirut         Lebanon\n",
       "13565        London  United Kingdom\n",
       "18400         Amman          Jordan\n",
       "5963       New York   United States"
      ]
     },
     "execution_count": 20,
     "metadata": {},
     "output_type": "execute_result"
    }
   ],
   "source": [
    "df[[\"City\" , \"Country\"]].sample(20)"
   ]
  },
  {
   "cell_type": "code",
   "execution_count": 21,
   "id": "c27d0131",
   "metadata": {},
   "outputs": [
    {
     "name": "stdout",
     "output_type": "stream",
     "text": [
      "['Software Developer', 'data scinetist', '*data scinetist', 'Pharmacist', 'CIVIL ENGINEER', 'Mechanical Enginere', 'SALES MANAGR', 'DOCTOR', 'lawyer', 'Civil Engineer', 'Dentist', 'Accountant', 'Lawyer', 'pHARmaCISt', 'Business Analyst', 'Sales Manager', 'deNTISt', 'Architect', 'Nurse', 'accountant', 'Electrical Enginere', 'archiTecT', 'Financial Analyst', 'Engineer', 'Financial Annalyst', 'DENTIST', 'Docteur', 'Graphic Designer', 'Data Scientist', 'Mechanical Engineer', 'Data sCiEntIST', 'aRChItECT', 'Financial Analyist', 'Electrical Engineer', 'Teacher', 'GRAPHIC DESIGNER', 'tEECheR', 'Software Develoeper', 'Teecher', '#GRAPHIC DESIGNER', 'cIvIL enGINeEr', 'ENGIneeR', 'software developer', 'NURSE', '#TEACHER', 'civil engineer', 'Software Devloper', 'Enginear', 'Civil Enginere', '$Nurse', 'buSineSS ANAlyst', 'Doctor', 'grapHIc DESIgNEr', 'BUsInESs AnAlYst', '%MECHAniCal eNgiNeeR', 'Sales Manger', 'Data Scinetist', '&accountant', '$Accountant', 'Mechanical Engeneer', 'engineer', 'Teachr', '$dentist', 'Sales Managr', 'PHARMACIST', 'Engeneer', 'daTa scIENtiST', 'sOftWARE DeveLopER', 'Civil Enginear', 'TEACHR', 'sales maneger', 'financial analist', '%Dentist', 'ENgIneER', 'meCHaNicAl ENgINeEr', 'grAPhIC DesiGneR', 'MECHaNiCaL EngiNEer', 'Techer', 'Data Scientst', 'DaTA SCiEntIST', 'FINancIAl anaLYiST', 'Electrical Enginear', 'ENGINEER', 'sofTwARe DeVELoPER', 'deNtiST', 'Civil Engeneer', 'electrical engeneer', 'dENtisT', 'PhArmAcISt', 'graphic designer', 'architEcT', 'SOFTWARE DEVELOPER', 'ACCOUNTANT', 'docteur', 'nurse', 'GrAphIC DeSiGNer', 'sales manager', 'SoFTwAre deVeLOPer', 'TEACHER', 'Business Analist', 'soFTwaRE dEVeloPer', 'GRApHIc DEsIGNER', 'fINanCiaL aNALyst', 'civil enginear', 'Docter', 'Sales Maneger', 'SALES MANAGER', 'pharmacist', 'teacher', 'CIVIL ENGINERE', 'Financial Analist', 'SAlEs mAnAGER', 'enGINeer', 'mEChaNical ENGinERe', 'ARCHITECT', '%Data Scientist', 'CIVIL ENGINEAR', 'dentist', 'Doctr', 'BUSINESS ANNALYST', 'LAWYER', 'PhARMaciSt', '&Electrical Enginere', 'dOcTOr', 'architect', 'ACcouNtANt', 'MECHANICAL ENGINEER', 'sales managr', '$Dentist', 'Mechanical Enginear', 'mechanical engineer', 'electrical engineer', 'FInaNCial ANALiSt', 'tEcHer', 'enginear', 'data scientist', 'mechanical enginere', '$Teacher', 'business analist', 'ENGINERE', 'PHaRMAcIsT', 'PharmAcist', 'softwaRE deVELOper', '%DATA SCIENTIST', 'financIal AnALYst', 'NurSe', 'ENGINEAR', 'MEchAniCaL eNGiNEeR', 'ArcHIteCT', 'DATA SCIENTIST', 'graPhIc desIgNER', 'MEChANiCaL EngINEeR', 'BUSINESS ANALIST', 'nUrse', 'archITECt', 'SOFTWARE DEVELOPPER', 'BUSinESS ANalySt', '&Architect', 'SaLEs MANgeR', '%Accountant', 'aCcoUnTaNT', '#Architect', 'Business Analyist', 'ArChItECt', 'Software Developper', '$Civil Engineer', 'Business Annalyst', 'daTa SCiEntIST', 'ENGENEER', 'doctor', '%Data Scientst', 'datA scieNTIst', 'electrical enginear', 'graPHiC Designer', 'finAnCiaL ANALyIsT', 'soFTWare DeVeloPER', 'BUSINESS ANALYST', 'BUSINESS ANALYIST', 'pharMaCIST', 'ciViL engINEER', 'FinANCIAl AnAlYsT', '#Engeneer', 'saLES maNagr', 'AcCounTaNt', 'CIVIL ENGENEER', 'MECHaNicaL enGiNEEr', 'mechanical engeneer', 'ENginEeR', 'datA sciNetIsT', 'mEChANicaL ENgIneeR', 'ELECTRICAL ENGINEER', 'FINANCIAL ANALYST', '&Doctor', 'sOFtWarE DEvElOpEr', 'DEnTist', 'Electrical Engeneer', 'dAta scIENTIsT', '&software developer', 'GRaphIc desiGnER', 'civil engeneer', 'ELECTRICAL ENGINERE', 'ENGINeER', 'business analyst', 'enginere', 'DATA SCIENTST', 'SALES MANEGER', 'Enginere', 'FiNaNcIAl ANaLYSt', 'ENgIneAR', 'ElEcTrIcal ENGeNEer', 'dEnTist', 'ElecTrIcaL ENgiNEeR', 'dEnTiSt', 'ARcHITECT', 'ArCHiTeCT', 'FINaNcial aNaLySt', 'BuSiNess ANALIst', 'ARChItEct', 'sAles mAnaGer', 'CIviL eNGiNeEr', 'data scientst', '%Business Analyst', 'ELectRiCal enGineAR', 'eNGIneer', 'EleCtrICaL engINEER', 'DaTA scIeNTIST', 'GrApHIc DESIGNER', 'DatA sCiEnTIst', 'gRAphiC DESiGnEr', 'financial analyst', 'SofTWare DevELopEr', 'dOctoR', 'fInANcIAl AnALyST', 'techer', 'MecHANICAl EnGINeer', 'teecher', 'ELECTRICAL ENGINEAR', 'NursE', 'GrApHIC DeSignEr', 'AcCOUnTANt', '&Teachr', 'aRCHItEcT', 'mECHAnIcal ENGiNEEr', 'doCTor', 'sales manger', 'SOFtWaRe DeVElOPeR', 'tEacher', 'pHARMAcIsT', 'FinANcIaL anALysT', 'doctr', 'LAWYer', 'software develoeper', 'dENtIST', 'arChITeCt', 'EnGinEER', 'EnGinEaR', '*Teacher', '&Lawyer', 'GRAPhIc DeSiGneR', '%PHARMACIST', 'salEs MANeGEr', 'graPHIC deSignER', 'PHaRMAcISt', 'engiNeEr', 'pHArmacisT', 'aRcHiTECT', '$sales manager', 'phARmaCISt', 'meCHaNicAl eNgINeER', 'ACCOunTaNt', 'TEAcHEr', '$business analist', 'DoCTOr', 'busInesS aNAlYst', 'datA ScIenTiST', 'CiViL eNgInEaR', 'accoUNTanT', 'DoCToR', 'TEaCHer', '&Electrical Engineer', 'nuRse', '&Electrical Enginear', 'docter', '#dOctOR', 'LaWYeR', '%Graphic Designer', 'saLes ManagER', 'DocTOr', 'pHARmACisT', 'nuRSe', 'lAwYEr', 'daTA SciENtIsT', 'teChER', 'PHaRMacISt', 'GRAPhiC dEsiGnEr', 'enGiNeEr', 'lawYer', 'sOftwarE deVeLoEPeR', 'salEs maNAger', 'ELECTRICAL ENGENEER', '*Business Analyist', 'ARCHITect', 'eLEctrical engineER', '$Doctor', 'AccouNtanT', '#sales manager', 'FINANCIAL ANALYIST', 'dOCToR', 'TeacHer', 'finaNCIAl AnALYsT', 'BuSiNess aNAlYSt', 'aCcOuntAnT', 'teaChEr', 'SOFTWARE DEVELOEPER', '&Sales Manager', 'BUSIness ANaLYisT', 'NUrse', '%doctor', 'FinANCIaL aNalYSt', '&Accountant', 'CIvIl enGINEaR', 'daTA SciEntiSt', 'ELeCtRIcal enGINeER', '%Pharmacist', 'sOFTwARe dEVeloePer', 'LawyEr', '%Sales Manager', 'fiNAnciAl AnNALYsT', 'DATA ScIeNTISt', 'CIVIl eNgiNEAr', 'enGiNEER', 'SOFTWARE DEVLOPER', 'civiL EnGineER', 'datA scIeNTIst', '$CIVIL ENGINEER', 'datA ScIeNTISt', 'pHarmaCIsT', 'pHArMaCIST', 'AccOUNTant', 'daTa SCiEnTISt', 'FinAnciAL anaLyST', 'busINess ANaLYst', 'DATA ScieNTIST', 'DATA SCINETIST', 'LAWyEr', 'mechANIcAL eNgINEER', 'saleS mAnAGEr', 'GraPHic DESigNer', 'software developper', 'SAlEs MANagr', 'Civil ENGineER', 'cIviL eNgineEr', 'gRAPHiC deSigNer', 'electrical enginere', 'TeEcher', 'eNGiNEaR', '%Electrical Enginear', 'engineEr', 'docTOR', 'sOftwAre DEvelOpEr', 'nuRsE', 'gRAphic desigNeR', 'meChaNIcAl eNgineER', 'eNGIneRE', 'DentiSt', 'ciViL enGINErE', '%Teacher', 'CIvIl ENGinEeR', 'ElEctRIcAl ENgiNEer', 'fiNANcIAL ANalysT', 'fINAncIAL ANAlist', '%Lawyer', 'SoFtWaRE DeveloPeR', 'CIvIl ENgIneER', 'graphiC DESIgner', 'finaNCIal anAlYst', 'pHARmAciSt', 'EngiNeeR', 'TEECHER', 'fINAnCIal aNAlyiSt', '&Teacher', 'MECHANICAL ENGINEAR', 'DATA sciEnTiST', 'electricaL ENgINEEr', 'BUSINess aNnalyST', 'eLeCtRicaL ENgIneEr', 'teachEr', 'dentIsT', 'DaTA ScIENtIsT', '*Architect', 'sOFTwarE DeVelopEr', '#SOFTWARE DEVELOPER', '%Doctor', '#CIVIL ENGINEER', 'lawYEr', 'GrApHic dESIgNer', 'EngiNeER', '$pharmacist', 'lAWYER', 'DocTer', 'civIl ENGiNeER', 'pHaRmacisT', 'sOftwArE DEveLopPER', 'sales managEr', 'DOctoR', 'DeNTist', 'sAlEs MaNaGER', 'deNtisT', '*Pharmacist', 'MECHANICAL ENGENEER', '&Graphic Designer', 'tEAChER', 'BusiNESs aNaLysT', '*mechanical engineer', '#Civil Engineer', 'gRapHIC DESiGNEr', 'meCHANICAL EngENEer', 'FINANCIAL ANALIST', 'eNgInEER', 'eNgiNEEr', 'SaLES maNAGR', 'SALes MaNagER', 'nURse', '&Software Devloper', 'teAcHer', 'DentiST', 'TeaCHer', 'SALES MANGER', '&Dentist', 'acCOuNTAnt', 'buSIness aNalISt', 'aCcOuntANt', 'GrApHIc DESIGNEr', 'electrICaL EnGInEER', 'SaLeS ManAGEr', 'GRaPhIC desIgner', 'datA ScInEtIst', 'DENTiST', '&engINEeR', '$Financial Analyst', 'ArChITect', '*Dentist', 'aCcountAnT', 'dOCTer', 'FiNANCial ANAlYSt', 'TECHER', 'ARchiTeCt', 'tEcHER', 'pHarMAcISt', 'DOCteur', '*Civil Engineer', 'Sales MANEgER', 'business annalyst', 'daTa sCIENtSt', 'DentisT', 'LAWyer', 'GRAPHIc dEsignER', 'lawYeR', 'eLecTRiCAL enGINeeR', 'DAtA sCiENTisT', 'busIneSs aNalisT', 'SOftWARE deVElopER', 'MEChAnical EnGInEEr', 'ACcounTanT', '$Business Annalyst', 'GRAPhic DesigneR', '%Architect', 'LAwyEr', 'GRAphiC DESIgnER', 'civil enginere', 'finaNCIAl aNaLYST', 'gRApHIc dESIgnER', 'buSinESs ANALYST', 'BusIneSs anALySt', 'sales manGER', 'sOFtWarE DEveLOpEr', '%teacher', 'pharMacisT', '*business analyst', 'CiviL EnGIneEr', 'tEacHEr', 'ELeCTriCAl EnGiNeER', 'DATa sCIentIST', 'mechANICaL engINeeR', 'eNgENeer', 'MEchanicAl enGiNEER', 'BusINess anALyst', '#Mechanical Engineer', 'MechaNicaL enGineer', 'eLEctricAL eNGINeAr', 'ARcHiTEct', 'PHARmacIst', 'TEAChER', 'mEChaNiCAL eNGInErE', 'engiNEER', 'ELeCtricaL ENGINEer', 'DeNtist', '&Software Developer', 'dOctOR', 'lAwyeR', '$Data Scientist', 'eNGineEr', 'LawYer', '$ENgenEER', 'CiVil engiNeeR', 'lAwyer', 'EngINEEr', 'ELECTRIcAl eNgenEER', 'LawyeR', 'nUrSE', 'grApHiC DeSIgner', '&Enginere', '&SalES MANagER', 'MeCHanICal ENGINeeR', 'AccOUntANt', 'DoCTOR', 'sOFTwArE devElopER', 'PhArmAcIST', 'graPHIc DEsiGNER', '#Mechanical Enginear', 'aCCoUnTaNT', 'sOftWARe dEVELOepEr', 'laWYer', '#Accountant', 'ENginEaR', 'nURsE', 'LaWYEr', 'GrAPhIC dEsignER', 'mechanical enginear', 'DOCTEUR', 'DEntIst', 'engiNEer', 'DoctOr', 'aCCOUNtaNt', '$doCTOr', 'ACCoUnTaNT', 'financial analyist', 'financial annalyst', 'cIViL enGiNEER', 'enGeNEER', 'BuSiNESs aNALISt', 'PharMAcisT', 'tEAChEr', 'FiNANCIal AnAlYsT', 'enGInErE', 'DAta SCIentist', 'dATa sciEntisT', 'DEntISt', 'NURse', 'FiNancial annALyST', 'SOFtwArE DeveLoPEr', '&Engineer', 'ENginEER', '%Civil Engineer', '#BUsINesS anaLYsT', 'DenTIsT', 'enGinEer', 'GRapHiC DEsIgNEr', 'teaCHer', 'ACCOuntAnT', 'datA scIentiSt', 'bUsinESs analYsT', '#Doctor', 'fINanCiaL AnaliSt', '#Engineer', 'DAtA SCIeNTST', '&Engeneer', 'DOCTER', 'PharMaCISt', 'GRaPhIC DesIgNEr', 'cIvIl eNGIneer', 'NURsE', 'sALES mAnAgER', 'TeChER', '%Civil Enginear', 'SoftwAre DEVeLOper', 'tEacheR', '#Enginere', 'meCHaNIcAl ENGineeR', 'data ScIenTiST', 'saLeS MANagr', 'BuSiNEss anALySt', 'FiNANCial AnalYsT', 'meCHAniCAL enGInEer', 'DOCtOr', 'bUsINesS aNALySt', 'DOcTor', 'DEnTIST', 'TEaChEr', 'CIvil eNgINeeR', 'MEcHANIcal eNGinEer', 'ELECtriCaL enginERE', 'PhArmacisT', 'AcCountaNt', 'EnGIneaR', 'DAtA SciENtiSt', 'fINaNcIAL ANAlIST', 'eNGiNeER', 'DEnTiST', '&CIviL ENGINEER', 'docToR', 'ARcHITecT', '$Software Developer', 'fiNancIAl ANalysT', 'CiVil ENgiNeEr', 'aCCOUntANt', 'ElECtriCAL EnGINeer', 'archItect', 'busiNESs aNALYSt', 'ArchitEcT', '%Business Analyist', 'pHARMAcISt', 'DaTA sciENTISt', '*Mechanical Enginear', 'teECHER', 'grApHIc deSIgNER', '#BUSINESS ANALYST', '%nuRsE', 'phARmacISt', 'PHArMAcIST', 'software devloper', 'CIvIl eNGiNEER', 'NUrsE', 'LAwyeR', 'daTA sCienTIST', 'EnGiNeAR', 'tEACHeR', 'PHARmACISt', 'elEcTRIcAl eNgiNEeR', 'softWArE dEveLOPpEr', 'aRCHItect', 'cIVil engINeer', 'bUsinESS AnAlYst', 'engeneer', 'teACHEr', 'data ScIENTST', 'sAles MangeR', 'BuSineSS AnNaLySt', 'soFTWaRe deVelopER', 'ACcoUNTAnT', 'pHARmACIsT', 'sOFtware DeVloper', 'sOFtWAre dEvElOPER', 'TEachER', 'bUsINESS AnALYISt', '*Graphic Designer', '*SoFtwARE devEloper', 'sALEs maNaGER', 'sALes ManaGER', 'aRchitEcT', 'civiL ENginEer', '$DENTIST', 'DAta scIENTiST', 'sOFTWARe DeVElOPeR', 'ELeCtRicaL enGiNeEr', 'ArCHITEcT', 'DenTiSt', 'dEntIsT', 'aCCOuNtaNT', 'electriCal eNGineER', 'fInaNCiAL anAlIst', 'SoFtwaRe deVlOper', 'BuSiNesS aNnAlYST', 'TEaCher', '#Dentist', 'meCHANiCal enGinerE', 'NurSE', 'PHArMacIsT', 'SoftWarE DEVElOper', '$Engineer', 'FinANcial ANalYst', 'saLes maNaGER', 'pHaRmaCisT', 'ElecTRICaL eNgINEer', 'EleCTricAl ENGinERe', 'civIL EnGiNEar', 'ARChitecT', 'ARcHIteCT', 'SAlEs manAGer', 'elEctrIcal engiNeEr', 'pHArMacIST', 'GRAphiC DeSIGnER', 'ciVIL eNgiNeER', 'ELeCTrIcal eNGINeeR', 'AcCouNTANT', 'sALES MaNGer', 'MeChaNicAL engInEeR', 'mecHAnical ENgIneeR', 'TEAcher', '%Teecher', 'CiViL EngIneER', 'ELEcTRICaL engenEeR', 'lawYER', 'teEcheR', 'teacheR', 'FINANCIAL ANNALYST', '$teacher', '*graphic designer', 'CIvil EngiNeeR', '$Business Analist', '#Pharmacist', 'grAphIc dEsIgNER', 'EnGINEer', 'enGinEeR', 'PhaRmacISt', 'SOfTwarE DEveLOper', 'LawYER', 'mEcHanical engInEAr', 'daTA sCIENTiSt', 'PhArMacIST', 'DATA ScIentst', 'SOfTWArE dEVELOePeR', 'DenTIST', 'dOcTor', 'ACCOUNTANt', 'SofTwAre dEVEloPER', 'mEchANICal eNGINeRE', 'bUSInESs analyst', 'finAncIAL anAlYsT', 'pharMaCiSt', 'lAWyEr', 'DOCtor', 'accounTANT', 'mecHAnical ENGinEEr', '#ACCOUNTANT', 'MEcHANicAl ENGENeER', 'saLes mANGEr', '*data scientist', 'daTA sCIentist', 'bUSINEsS aNaLysT', 'graphiC DESigneR', 'DOctr', 'gRapHIc dESIGNER', 'lAWYer', 'EngineeR', 'BuSiNeSs ANaLYiST', 'SoftwARe deVeLOPEr', 'grAPhIC dESiGNER', 'pHarMaCiST', 'LaWyER', 'EleCtriCal enGInEar', 'gRApHIc DeSignER', 'finANciAL AnaLyIsT', '#Software Developer', 'SaLEs ManaGEr', 'CiVil ENGiNEaR', 'PHARMAcisT', 'denTISt', 'SalES mANAgER', 'FINANciAL aNALYst', '%Doctr', 'eLeCtRIcAL eNginerE', 'SoFtWarE deVLOPER', 'softwaRe DeVeLOpEr', 'busiNess aNalist', '#MECHANICAL ENGINEER', 'phARmAcISt', 'FiNAnciAL annaLySt', 'buSINeSs AnALyISt', 'dOctOr', '$PHARMACIST', 'BUSINeSs AnAlySt', 'sofTwARe DeVEloPer', '*Lawyer', 'business analyist', 'soFTWAre DeVElopER', 'sALEs maNagEr', 'teAcheR', 'DaTa scieNTisT', 'SALes ManAGer', 'sAleS MAnageR', 'dOCTOR', 'aCcounTanT', 'SAleS ManAGer', 'CiviL enGiNEER', 'dAtA sCIEntIST', 'pHArMAcisT', 'buSIneSS aNALYst', 'fiNANciaL ANalySt', 'accOUNtANT', 'DATA sCIeNtisT', 'fiNanciaL aNALYst', 'GRAPhIC desIgNeR', 'acCOunTAnt', 'NuRSE', 'nurSe', 'accouNtANt', 'lAwyER', 'finAnCIaL ANaLySt', 'AccounTaNT', 'DATA sCieNTiST', 'aRChitECt', 'pharmaCIST', 'pHARMAcIst', 'dAtA SciEntIST', 'teaCheR', 'AcCoUnTanT', 'dentiSt', 'eLEcTRICaL eNGinEEr', 'SAles maNegER', 'EnGIneER', 'DEnTiSt', '*Software Developer', '*Business Analyst', 'TEACHEr', 'tEAchEr', 'buSiNeSS ANalyst', 'teACHer', 'PhARmaCiSt', 'dOcteUr', 'tEechEr', 'dEntIst', 'CiVIL EnGIneEr', 'enGineer', 'DAta sCIentIst', 'dEntist', 'PHArmaCIsT', 'LaWYER', 'PhArMaCisT', 'meCHANicaL enGineEr', 'EngeNEER', 'data SCiEntiST', 'aRChitecT', '$Lawyer', 'DEntiST', '*Nurse', 'ElEctRiCaL eNGInEeR', 'dOCtor', 'buSiNEss ANalYst', 'mEChANICal EngineRe', 'ACCOuNtANT', 'TeachR', 'PHaRMacIST', 'acCounTANT', 'pHarMAcIST', 'bUsiNEss aNALYsT', 'sOftWARe dEVELoPpEr', 'ACcOunTant', 'salEs mANager', 'MecHanicAl eNgIneer', 'PhARmaciSt', 'dATA scIentISt', 'ArcHiTecT', 'acCOUnTANt', 'FINaNcIAl anALYST', 'phArmaCisT', 'ArCHItECT', 'AccOunTaNT', 'pHArmAcISt', 'eLEcTrIcAL ENGinEER', '#Docter', 'EleCTRiCaL engineer', 'tEAchER', 'mEChaNIcal enGiNeER', 'aRCHiTECt', '#Nurse', 'eLEcTrIcaL eNgInEER', 'buSIneSs analiSt', 'sofTWARE deVeLOPer', '%Financial Analyst', 'ARChITEcT', 'EngiNEeR', 'ENGINEer', 'buSInesS analYST', 'ElectrIcAL enGInEre', 'DOcTer', 'bUSinESs anALYst', 'SoftWArE devELOPER', 'saLes MANEgeR', 'salES manEGEr', 'mEChANicAL enGiNeER', 'saLes mANeGEr', 'DATA sCiEntsT', 'CIVil EngiNeEr', 'docTOr', 'DOCToR', 'bUsINeSs anAlYST', 'SaLes MANAGER', 'GrAPhiC DEsIGNEr', 'BUSInESS ANAlyIsT', 'TEaCHeR', 'fiNanciaL AnAlyST', 'DeNTIsT', 'teAcher', 'meCHAniCaL eNGinErE', 'dAtA SCieNTiSt', 'saLES manaGEr', 'eNgENeeR', 'GrApHiC desIgneR', 'aCcoUNTanT', 'DENTist', '$Engeneer', 'SofTwAre DEveLoPeR', 'ARchItecT', 'EleCtrIcal EngINeEr', 'SAlEs MAnAGER', 'soFTWaRE dEvELOper', 'sAles MANEgER', 'ELECTRiCaL eNgInEEr', 'dOcTOR', 'BuSIness aNALysT', 'DatA SCieNtISt', 'sofTWAre dEVelOPPeR', 'ElECtRiCAL EngiNeEr', 'PHaRmaCisT', 'ELectRical ENgIneRe', 'NuRSe', 'SOftWArE DevLOpER', '%Electrical Engineer', 'MECHANICAL ENGINERE', 'FINANCIal AnaLyst', 'datA sCiEnTisT', 'aRChITECt', 'grAPHIC DEsiGNER', 'DaTa scIeNTST', 'GRaphic DesiGNeR', 'MECHANical eNgIneer', 'busINeSS aNALysT', 'PharMaCIst', 'arcHiTECT', '$Architect', '$GRAPHIC DESIGNER', 'aCCoUnTAnT', 'MecHaNIcAL ENgiNEEr', 'ArChItEct', 'fiNaNcIAl ANALyisT', 'datA SCieNtIST', 'DocTor', 'dentiST', 'DATa ScieNtIST', 'bUsIneSS aNalyst', 'EngeNEeR', 'DENTIst', 'busInESS ANalyst', 'GRAPhIC DesiGnEr', '&Docteur', 'Sales mANAGer', 'CiViL engeNeER', 'deNTIst', 'sOfTWarE dEvElOpEr', 'doCtOr', 'ARchitEct', 'DENTisT', 'teAcHEr', 'bUsInEsS analYST', '%Software Developer', 'mechAnIcAl eNGinere', '#ELECTRICAL ENGINEER', 'LAWyER', 'phArmaCiST', 'MECHAnICAL ENgINEeR', 'SAleS MaNgEr', 'SaLeS MangER', 'SofTWarE DEvELOpEr', 'engeNeer', 'Data sciEnTIsT', '$Graphic Designer', 'gRaphIC DESIgnER', '%Nurse', 'DATa ScIenTst', 'saLeS MANaGEr', 'mEchanIcaL EnGIneeR', 'bUsinESs ANaliSt', 'ciViL eNGIneeR', 'ARcHiteCt', 'elECtricaL engINEER', '#Financial Analyst', 'mECHANICAL engINeaR', 'enGINEER', '*accountant', 'ENgEneEr', '&civil engineer', 'MeChanIcaL enGIneer', 'DOCTR', 'CIVIL EnGINeER', 'DATA sciEnTst', 'DaTA SCiEntIsT', 'gRapHIC desIGNER', 'sOfTWARe deveLopEr', 'DatA sciENtiST', '%Engineer', 'eNgINeER', 'pHArmaciSt', 'DENtIST', 'ENgiNeeR', '$Mechanical Engineer', 'GRaPhIC desiGnER', 'SALEs manGeR', 'ACcoUntAnT', '*Doctor', 'PharMACisT', 'pharmACIsT', 'DAtA scienTiST', 'MecHANICAl EngeNEEr', 'DatA sCieNTist', 'PharMaCist', 'cIVIl EngInEre', 'eLECTriCAL eNGINeEr', 'SOFtWArE DeVElopEr', 'doCteUr', 'grapHIC DeSiGnEr', 'pHARMacIsT', 'MEcHAniCaL eNgineER', 'DEnTIsT', 'AccouNtANt', '&Nurse', '&Data Scientist', 'mECHANICAl EngiNeER', 'architeCt', 'eLECtrical enGIneER', 'ENgiNEER', 'SOftWARe dEveLOpEr', 'meChANICal eNGINeer', '#electrical engineer', 'archItECt', 'PHaRMAcist', 'phaRMAcIsT', 'buSInESS ANalyst', 'cIvil ENGInEER', 'TEAcheR', 'SALES manager', 'datA sCiENTIsT', 'civil EnGiNEeR', 'lawyER', 'gRApHiC DesiGneR', 'DAtA ScIeNtISt', 'aRChITECT', '&Business Analyst', 'fINaNCIal aNnALyst', 'fInAnCIaL AnALYSt', 'AcCouNTaNT', 'soFtwARE deVEloper', 'dENTIST', '&Electrical Engeneer', 'LAwYeR', 'finANCIal aNALyst', 'fInAnCIAl anaLyst', 'grApHIC DESignEr', 'ELectRiCAl ENgInERe', 'ELEcTrIcaL EnGeNEEr', 'aRChItecT', '*Financial Analyst', 'gRaphic Designer', 'bUSinESs aNaLYSt', 'fiNaNCIAl AnaLyST', 'aCcOuNtANT', 'phARmacIst', 'DENtIsT', 'GrAphic dEsIgNer', 'TeaCheR', 'finAncIaL aNAlYSt', 'DATa SCIenTist', '#Financial Analyist', '%NURsE', 'data scIeNTISt', 'deNtIsT', 'sOFtWAre dEveLOPPer', 'mechANICAl eNGInEer', 'softwARe deVeLOPer', 'finAnCIaL ANnalYSt', 'aRCHiTeCT', 'sOfTWArE deVelOPER', '*acCOUntaNT', 'deNtIST', '#Lawyer', 'daTa SCiENTIST', 'eNGiNere', '$NURSE', 'PHarmACIST', 'denTIST', 'soFTWarE DEVElopEr', 'ArCHITect', 'eLEctrIcAl enGiNERE', 'GrAPHiC dESIGNeR', 'saLes mANeGer', 'sAlES maNGER', 'TEachEr', 'ARcHiTECT', 'DOcTr', 'PHArmacIst', 'SALeS manaGr', 'PhARmACIst', 'accoUNTANt', 'ACcoUNtaNT', 'MEchANICAl eNGinEeR', 'meChANIcal ENGiNeer', 'GRAphIC DEsIgNER', 'cIVIL engeNEER', '&Mechanical Enginear', 'TeAcHer', 'meCHanICaL ENgiNEer', '*Mechanical Enginere', '&Data Scientst', 'BusiNeSS aNAlYst', 'pharMACISt', 'graphIC DESiGner', 'GraPhiC DesiGNEr', 'SALEs manAGeR', '&EnGInEER', 'saLEs manAgER', 'saLES MaNgEr', 'CIvIl eNgiNEER', 'grAphIc dESignER', 'cIvIl EngeNEER', 'eNgIneAr', 'gRAPhIc deSiGNER', 'enginErE', 'FInaNciaL aNaLyst', 'GrAPHIc dEsignER', 'FinancIAL ANalYsT', 'teAchER', '#Sales Manger', '%Mechanical Enginear', 'CiVIl EngiNEeR', 'BUSINESs anaLYIST', 'SALEs MAnAGEr', 'ARcHITeCT', 'mEchaNicAL EnGeNeer', 'tEAcHER', 'mECHAniCaL engINEAR', 'sAleS MANAGEr', 'FiNANcial aNaLiST', '*Accountant', 'civIL engineer', 'mechANiCaL ENginEeR', '*Business Annalyst', 'Sales mAnGeR', 'PhArMaciSt', 'GrAphIC DESIGnER', 'dATA SciENtiST', 'TeacheR', 'eleCTRicAL eNgInErE', 'salEs MaNaGER', 'sAleS MAnagER', 'PHARmAcist', 'DEnTisT', 'aCCountaNt', 'FInaNciAl anAlYSt', '#CIVIL ENGINEAR', 'LAwyER', 'denTisT', 'daTA SCIEntisT', 'saLES ManAgeR', 'ACcoUntANT', 'ACcountant', 'FiNANciAL anaLYST', 'TEacheR', '#dentist', 'GrApHIc dESIgnEr', 'cIVil enGINEAR', 'sOftware dEveLOPER', 'ELECtRIcAL eNginEer', 'CiVil eNgINEer', 'FINANCiaL analYST', 'sAles MaNAGER', 'GrapHic dESignEr', 'daTa sCIENTiST', 'DatA sCIEntIST', 'mEchanIcAl ENGInerE', 'sOFTwARe deVELoPEr', 'tEachER', 'LAwYer', 'DOcTOr', 'PHArmAciSt', 'GRAPHIC DeSiGNer', '$MechanicAL eNgineER', 'buSInESS anAlyst', 'finANCiAl AnALyisT', 'dentIst', 'PHArmACIST', 'LawyER', 'pHarmacIst', 'cIvIL ENgINear', 'laWYEr', 'NUrSE', 'DenTiST', 'bUSiNeSs AnALYSt', 'grApHiC DesiGnEr', 'GrAPHic DeSigner', 'acCounTanT', 'FINANCial aNaLyst', '$Enginear', 'lAWYeR', 'ACcOuNTANt', 'DAta ScIenTiSt', 'mEcHANIcal enGineer', 'accOUNtAnT', 'SoftwArE DEveloPeR', 'dAta SCIentist', 'sALes mAnGeR', 'mecHaniCal eNgEnEer', 'pHARMaciST', 'SaLes MANAgeR', '#graphic designer', 'EleCtrical enGIneer', 'teacHEr', 'ACCOUnTAnT', 'fINancIaL ANaLyst', 'ACcOUNTANt', '%ELECTRICAL ENGINERE', 'DATA sCIENtST', 'aRcHitECt', 'SOFtWAre DEVeLoPER', 'doctoR', 'acCoUNtAnt', 'aCcoUnTanT', 'arChitEct', 'DoCtOr', 'DatA ScientISt', 'enGeNEeR', 'tEEcHer', 'architECT', 'gRaphIc dEsigNER', 'AccOuNtaNT', 'eleCtRIcAL EngInEeR', 'lAwYeR', 'enginEEr', 'lAWyer', 'EnGiNeEr', 'EnGinEeR', 'arcHitect', '&Data Scinetist', 'PharMAcIst', '*Mechanical Engineer', 'ACCOUnTaNT', 'BusinEsS aNNalYSt', 'daTA sCINeTiST', '*doctor', 'pHARmAcISt', 'BuSiness anaLYsT', 'SOfTwARe deVELOPeR', '*NUrsE', '&Business Analist', 'DAtA scIeNtISt', 'ElectRiCaL engiNEEr', 'eleCtriCaL eNginEER', '*Data Scientist', 'ArChiTeCt', 'AcCouNtant', 'FinANciaL ANaLyST', 'phaRmAciSt', 'mEchanICAl ENgInEAR', 'TEACheR', 'meCHanical ENgInEeR', 'dentISt', '#dOcTOR', 'DatA ScIenTist', 'PHArmacisT', 'pharmaCist', '%lawyer', 'elECTRICal ENGinEER', 'enGEneER', 'arCHiTECt', '%Financial Annalyst', 'EngINERE', 'SoFtWaRe develoPer', 'civIl eNGInere', 'dEnTisT', 'salES mAnageR', 'ArCHItecT', 'deNTIST', 'fINAnCiaL AnALyST', 'aRChITEct', 'BUSINEss anALySt', 'cIvIL ENGIneer', 'deNTIsT', 'pHARmAcIsT', 'meChanicaL EnGIneeR', 'aRCHiteCT', '$DOctoR', 'fINaNCiAl AnaLYst', 'acCountanT', 'DaTA SCiENTisT', 'aCCounTANT', 'teAChER', 'CivIl enginEEr', 'EngInEer', 'eNgineRE', 'ENGineEr', 'DaTa sCiNETist', 'FiNAnciAl ANALYIST', 'ciVIl eNgINeeR', 'FINAnCIAL AnaLYst', 'tEaCHeR', 'busInESs anaLyst', 'eLEctriCaL eNginEEr', 'mEChaNiCAl ENgINere', '$Sales Manager', 'SALES maNager', 'sOFtware dEVeLopeR', 'denTiST', 'ElectrICAl ENGINErE', 'DOctor', 'ELEcTRiCal ENgENeeR', 'AccoUNtanT', 'ciVIL engiNEeR', 'graPHIC dEsiGNER', '%graphic designer', 'eleCtriCAL enGiNeER', 'lAwyEr', 'SoFtWARE DeveLOPER', 'DeNTiST', 'eNGeneEr', 'ArCHItEcT', '#Business Analyst', 'eLeCtRical eNginerE', 'ELeCtricaL engiNeeR', 'DoctOR', 'daTa ScInETIST', 'laWyEr', '#DATA SCIENTIST', 'ACCOuNtANt', 'engINErE', 'arCHITECt', 'eLeCTRiCAL enGIneeR', 'aCcOuntanT', 'sALeS ManAgR', 'civiL eNGiNEeR', 'ACCOuNTANt', 'PHarmacisT', '$SALES MANAGER', 'CivIl EnGiNErE', 'fInaNcIAL anaLyST', 'MeCHAnICal EngineRe', 'pHaRMACIst', 'elecTrICAL eNGINEeR', 'cIvil eNGINear', 'CiVIL EnGENEer', 'SOFTWARe dEVELoPer', 'DAta sCienTIST', '&Civil Enginere', 'phaRmACiST', 'mEChanicAL eNgiNeRE', 'PharmACisT', 'LaWyer', 'LaWYer', 'DentISt', '$DATA SCIENTIST', '#CIvil EngInEre', 'cIViL engIneeR', '#SaLEs MANagER', 'lAwYer', 'eNgIneER', 'eNGInEEr', 'cIVil EngINEaR', 'FinaNCIal AnALYSt', 'bUSiNess aNalyST', 'phaRmaCIST', 'phArmACIsT', 'sALEs ManAGER', 'doctEUR', 'ArchiteCT', 'eLecTriCaL enGIneEr', '$graphic designer', 'SOftWaRE DEveLOPeR', 'EngINeER', 'DatA SciENtISt', 'ELEctrIcal ENGINEeR', 'dOCtR', 'bUsINeSs anALiSt', 'elecTRicAL ENgIneER', '$Data Scinetist', 'DATA SCIenTIst', 'busINEss ANaLiSt', 'fINaNCiAL anALysT', 'sofTWarE DeveLoPEr', 'DOcTEuR', '$doctr', 'EngINEer', 'ELecTRIcal enGinErE', 'mEcHaNIcal enginEeR', 'ACcOuNTanT', 'mecHaniCAL eNGENeeR', 'FinanCiAL aNAlyst', 'CiVIl enGINeEr', 'eLECtriCaL EngiNeER', '&BuSiNess ANALYISt', 'meCHaNiCal ENGinerE', 'gRaPHIc desIgner', '%Financial Analist', 'nursE', 'pHArMacIsT', 'TeACHer', 'mechANicaL EngINEer', 'dAta SciENTIst', 'fINanCiAL analiST', 'soFTWAre devELOpEr', 'laWyeR', 'teachr', 'GRApHIc DESIGner', 'saLES mAnAGr', 'LaWyEr', 'DaTa SciENtIsT', '*civil engineer', 'eLECtrICal ENgINeER', 'enGInEeR', '$Business Analyist', 'eNGInEER', '$TEACHER', 'EngeNeER', 'MeChanicaL ENgiNeer', 'doCTr', 'CiVIL ENGIneer', 'GrAPHiC dESigneR', 'elEcTRiCAl enGINEER', 'ACcOUNTANT', 'daTA sCIEntIST', 'GrAPhIc desIgner', 'pHarmacIsT', 'MechanICal eNgINeEr', '*sales manager', '*DENtiST', 'LawYeR', 'LAWYeR', 'mEChaNICaL engInEer', 'ciVil eNGenEer', 'BuSInEsS AnAlyST', 'eNgenEEr', 'aCcoUNtant', 'docTeuR', 'FInAnCiaL aNAList', 'ElECTRicAl eNgIneER', 'sOFTwaRe DeVeloPER', 'pHARmacIsT', 'SalEs MANgeR', 'EngIneER', 'ACCOunTanT', 'DATA SCInEtIST', 'DatA SCIeNtIST', 'PHArMAcISt', '$lawyer', 'MEchANICAL EnGiNeAR', '*sALes ManAGeR', 'acCoUnTaNt', 'eNgEneer', 'EngiNEEr', '&dENTIsT', 'softwaRE DEvLoPeR', 'TEACHeR', 'DatA sCienTst', 'MechANIcaL ENGENeER', 'doctOr', 'DATa SCIeNTiST', 'gRAPhiC DEsIgner', 'enGINeER', 'DATa sCIEntiSt', 'CivIL enGiNeEr', '$Business Analyst', 'archITEct', 'ENGINEEr', 'SoFtWare dEveLopEr', 'sOFTWare DevelOpPeR', 'grapHiC dESIgNER', 'civiL eNgINEER', 'ACcouNTANT', 'BuSinESs ANnALysT', '#Business Analyist', 'SoftwARe DeVELoepEr', 'dENtIst', '%Sales Maneger', '&business analyst', 'ARcHiTeCt', 'phArmAcist', '#DENTIST', 'SofTWARe dEvelopER', 'civil enGINEer', 'ACcOUntanT', 'tEcher', 'fINaNciaL anAlysT', 'engIneRe', 'arChITECt', 'sAleS maNAgEr', 'sOFtWAre dEVLoPer', 'CiviL eNgInErE', 'ciViL enGIneeR', 'doctOR', 'gRAphIc dESiGnEr', 'arCHiTeCt', 'ACCOuNTanT', 'ciVIl eNgINeEr', 'saLes mANAGer', 'ARCHItEcT', 'SalES managr', 'archITeCt', 'EnGinEer', '$Electrical Engineer', 'DAta ScieNTiST', '#Electrical Engineer', '%dATa ScientiST', 'GrAPhiC DEsIGNer', 'fInanCIaL anAlYST', 'GraphiC dESIGnER', 'ARCHitect', 'CIvIL engINeEr', 'ElecTRICaL enGiNEer', 'eleCtRIcAL ENgIneaR', '$engineer', 'daTA scIeNtISt', 'DEntIsT', '%pharmacist', 'SALEs maneGER', 'DeNtISt', 'civiL EnGIneeR', 'PHARMACIst', 'daTa sCinETisT', 'MeChAnICAl eNginERE', 'DaTa scieNTIst', 'CIvil ENGiNeer', 'SoFTwARe dEVElOpeR', '#cIviL ENgINeAr', 'fInAnciAl aNaLyST', 'bUSiNeSs AnalYST', '&Financial Analyst', '*Docteur', 'cIvIL EngiNErE', 'GRAPHic desIgNEr', 'sAles mANaGEr', 'SaLES maNaGer', 'grAPhiC DesIgNer', '&TEACHER', 'sofTWAre dEVELoPPEr', 'FINANciAL anAlySt', 'ENgENEEr', 'cIviL eNgINeer', '#Enginear', 'doCToR', 'SOFTware dEveLoPeR', 'eNGINeER', 'SOFtwArE deVELOPeR', 'MEChaNiCal engINEEr', '&ciViL EnGINeer', 'softWare DeVelOPER', 'ENGinear', 'SoFTWaRe DeVLOPER', 'ACcOUNTant', 'dOcTeuR', 'DaTa SCIENtist', 'bUSinEsS aNalYsT', 'cIVil EnginEAR', 'SaLES manAgeR', 'ARCHitEct', 'daTA sciNeTiST', 'daTA ScIentISt', 'FinaNcial AnaLYISt', '#Sales Maneger', 'ELeCtRIcal eNGIneER', 'soFTwARE DeveLoper', 'BusINEsS AnalyST', 'GRApHic desiGNER', 'cIVIl ENGineer', 'dEntISt', 'BUSInEsS ANAlysT', 'SofTWArE DEvElOPeR', 'ELEctrIcAL enGinErE', '*Data Scientst', 'SOfTWare DEVElOPeR', 'fInaNCIAl AnnaLyST', 'MechANIcAL eNgiNEer', 'EnGineeR', 'aCcOUNTanT', 'CiviL eNGiNeeR', 'ELECtRicAL ENgiNeeR', '$Teecher', 'sAlES mAnaGEr', 'eNgINeeR', 'FiNAncial anAlYisT', 'MEChAnicAL eNginEeR', 'BUSInEsS anAlyst', 'ELecTricAL enGIneRE', 'CiVIl EnGinEER', '#Sales Managr', '&Pharmacist', 'graPHiC deSiGner', 'mechaniCAL eNgINEer', 'eNgINEaR', '$Electrical Enginear', 'fInAncIal aNaLYst', 'BUsiNEsS ANALYSt', 'data sCIenTIst', 'ACcounTaNT', 'ElECtrIcAl enGINeer', 'finANcIal aNAlyst', '*Electrical Engineer', 'dEnTIsT', 'grAPhIc dEsiGnER', 'soFTWaRE deVeLOpEr', 'cIViL eNGeNeEr', 'DaTA scIeNTiST', 'aCCOUNTaNT', 'sALes maNAgR', 'pHaRmaCIsT', 'tecHER', 'dENTisT', 'archiTect', 'mECHanICAl enGinerE', 'DaTa ScIEnTiST', 'saLES mAnaGer', 'eNGENeEr', 'bUSiNEss anALysT', 'TeAChER', '*Financial Annalyst', '$Pharmacist', 'mEChANICal engineer', 'PhARMACIsT', 'lAWyeR', '*Engineer', 'sAlEs mANaGER', 'PhARMACiST', 'gRAPHIC dESiGNEr', 'FiNAnciAL anAlYSt', 'CIVil enGiNEre', 'dATA sciENtiSt', 'phARmACisT', 'LAwyer', '*Civil Enginear', 'busiNesS anaLySt', 'sOfTWArE deVelOpeR', 'doCtoR', '#LAwYeR', '*SALeS MAngeR', 'EnGIneer', 'FiNANCial AnAlyst', 'mECHAnICaL EnGineAR', 'aCcOUnTANT', 'daTa scIEntisT', 'GraPhic deSIGnER', 'lAWyER', '$Mechanical Enginear', 'sOFTWarE dEvLOPer', 'soFtwARE deVElOEpEr', 'DatA sCIeNtiST', 'SAleS MANAGER', 'BUSiNEsS ANaLyst', 'sAlEs ManAGEr', 'NUrSe', 'ARchitEcT', 'daTA SCientISt', 'dATa sCIENTST', 'gRapHic dESignEr', 'CIviL eNgineEr', 'FInAnCIAl AnAlyIsT', 'MEcHaNiCal enGINEer', 'BuSiNesS AnAlysT', 'CIViL EngINEER', 'pHarmAciSt', 'acCoUNtanT', 'civIL ENGIneEr', 'PharMaCiST', 'buSInESs anAlYST', 'eLECTrical EnGiNeEr', '%Mechanical Engineer', 'MECHanICAl EngiNeer', 'DATa SCIeNtst', 'phArMacist', 'fiNaNCIAL aNalyST', 'ELeCTRiCAL eNGINeER', 'PHaRMAcIST', 'aCcountant', 'pHaRMaCiST', 'DOcteR', 'arChITECT', 'FinAnCIAl ANaLYIST', 'cIVIL EnGIneEr', 'mecHAnICAL enginEeR', 'fInAnCIaL analYsT', 'elecTrICAL eNgEneER', 'acCOUNtAnT', 'eLeCtriCaL enGiNEar', 'teACher', 'ElecTrIcAL ENgINEeR', 'archITEcT', 'FInANcIaL aNaLyIST', 'GRAPHIc DESigNEr']\n"
     ]
    }
   ],
   "source": [
    "#showing a unique values of job title col before claening it \n",
    "print(list(df[\"Job_Title\"].unique()))"
   ]
  },
  {
   "cell_type": "code",
   "execution_count": 22,
   "id": "32b24337",
   "metadata": {},
   "outputs": [],
   "source": [
    "df['Job_Title'] = (\n",
    "    df['Job_Title']\n",
    "    .str.replace(r'[^a-zA-Z\\s]', '', regex=True)  # Remove symbols\n",
    "    .str.strip()                                  # Remove leading/trailing spaces\n",
    "    .str.title()                                  # Capitalize properly\n",
    ")"
   ]
  },
  {
   "cell_type": "code",
   "execution_count": 23,
   "id": "0165f584",
   "metadata": {},
   "outputs": [
    {
     "data": {
      "text/plain": [
       "array(['Software Developer', 'Data Scientist', 'Pharmacist',\n",
       "       'Civil Engineer', 'Mechanical Engineer', 'Sales Manager', 'Doctor',\n",
       "       'Lawyer', 'Dentist', 'Accountant', 'Business Analyst', 'Architect',\n",
       "       'Nurse', 'Electrical Engineer', 'Financial Analyst', 'Engineer',\n",
       "       'Graphic Designer', 'Teacher'], dtype=object)"
      ]
     },
     "execution_count": 23,
     "metadata": {},
     "output_type": "execute_result"
    }
   ],
   "source": [
    "corrections = {\n",
    "    # Software roles\n",
    "    'Software Develoeper': 'Software Developer',\n",
    "    'Software Devloper': 'Software Developer',\n",
    "    'Software Developper': 'Software Developer',\n",
    "    # Data roles\n",
    "    'Data Scinetist': 'Data Scientist',\n",
    "    'Data Scientst': 'Data Scientist',\n",
    "    # Engineer roles\n",
    "    'Mechanical Enginere': 'Mechanical Engineer',\n",
    "    'Mechanical Engeneer': 'Mechanical Engineer',\n",
    "    'Mechanical Enginear': 'Mechanical Engineer',\n",
    "    'Electrical Enginere': 'Electrical Engineer',\n",
    "    'Electrical Enginear': 'Electrical Engineer',\n",
    "    'Electrical Engeneer': 'Electrical Engineer',\n",
    "    'Civil Enginere': 'Civil Engineer',\n",
    "    'Civil Engeneer': 'Civil Engineer',\n",
    "    'Civil Enginear': 'Civil Engineer',\n",
    "    'Engeneer': 'Engineer',\n",
    "    'Enginear': 'Engineer',\n",
    "    'Enginere': 'Engineer',\n",
    "    # Financial roles\n",
    "    'Financial Analyist': 'Financial Analyst',\n",
    "    'Financial Annalyst': 'Financial Analyst',\n",
    "    'Financial Analist': 'Financial Analyst',\n",
    "    # Sales roles\n",
    "    'Sales Managr': 'Sales Manager',\n",
    "    'Sales Manger': 'Sales Manager',\n",
    "    'Sales Maneger': 'Sales Manager',\n",
    "    # Business Analyst\n",
    "    'Business Annalyst': 'Business Analyst',\n",
    "    'Business Analyist': 'Business Analyst',\n",
    "    'Business Analist': 'Business Analyst',\n",
    "    # Doctor roles\n",
    "    'Docteur': 'Doctor',\n",
    "    'Docter': 'Doctor',\n",
    "    'Doctr': 'Doctor',\n",
    "    # Teacher roles\n",
    "    'Teecher': 'Teacher',\n",
    "    'Teachr': 'Teacher',\n",
    "    'Techer': 'Teacher',\n",
    "}\n",
    "\n",
    "df['Job_Title'] = df['Job_Title'].replace(corrections)\n",
    "\n",
    "#showing uniqe values of job title col after claennig and validation\n",
    "df[\"Job_Title\"].unique()\n",
    "\n"
   ]
  },
  {
   "cell_type": "code",
   "execution_count": 24,
   "id": "edd18ee5",
   "metadata": {},
   "outputs": [
    {
     "data": {
      "text/plain": [
       "array(['Single', 'S', 'Married', nan, 'Unknown', 'M'], dtype=object)"
      ]
     },
     "execution_count": 24,
     "metadata": {},
     "output_type": "execute_result"
    }
   ],
   "source": [
    "#showing uniqe values of Marital Status col before cleaning and validation \n",
    "df[\"Marital_Status\"].unique()"
   ]
  },
  {
   "cell_type": "code",
   "execution_count": 25,
   "id": "4705758b",
   "metadata": {},
   "outputs": [
    {
     "data": {
      "text/plain": [
       "array(['S', 'M'], dtype=object)"
      ]
     },
     "execution_count": 25,
     "metadata": {},
     "output_type": "execute_result"
    }
   ],
   "source": [
    "standard_marital = {\n",
    "    'Single': 'S',\n",
    "    'Married':'M',\n",
    "    'Unknown': np.nan  # or keep as 'Unknown' if you prefer\n",
    "}\n",
    "\n",
    "#standarize the values of Marital Status\n",
    "df['Marital_Status'] = df['Marital_Status'].replace(standard_marital)\n",
    "\n",
    "#drop unkown martial status\n",
    "df.dropna(subset=[\"Marital_Status\"], inplace=True)\n",
    "\n",
    "#showing uniqe values of Marital Status col after cleaning and validation \n",
    "df[\"Marital_Status\"].unique()"
   ]
  },
  {
   "cell_type": "code",
   "execution_count": 26,
   "id": "fc9e2ced",
   "metadata": {},
   "outputs": [],
   "source": [
    "df.dropna(subset=[\"Marital_Status\"], inplace=True)"
   ]
  },
  {
   "cell_type": "code",
   "execution_count": 27,
   "id": "bdc4b149",
   "metadata": {},
   "outputs": [
    {
     "data": {
      "text/plain": [
       "array(['M.Sc.', 'B.Sc.', 'High School', 'Masters', 'BS', 'PhD', 'Diploma',\n",
       "       'Bachelor'], dtype=object)"
      ]
     },
     "execution_count": 27,
     "metadata": {},
     "output_type": "execute_result"
    }
   ],
   "source": [
    "#showing uniqe values of Marital Status col before cleaning and validation \n",
    "df[\"Education_Level\"].unique()"
   ]
  },
  {
   "cell_type": "code",
   "execution_count": 28,
   "id": "4e0b3b40",
   "metadata": {},
   "outputs": [
    {
     "data": {
      "text/plain": [
       "array(['Master', 'Bachelor', 'High School', 'Masters', 'PhD', 'Diploma'],\n",
       "      dtype=object)"
      ]
     },
     "execution_count": 28,
     "metadata": {},
     "output_type": "execute_result"
    }
   ],
   "source": [
    "edu_mapping = {\n",
    "    'B.Sc.': 'Bachelor',\n",
    "    'BS': 'Bachelor',\n",
    "    'M.Sc.': 'Master',\n",
    "}\n",
    "\n",
    "df['Education_Level'] = df['Education_Level'].replace(edu_mapping)\n",
    "\n",
    "#showing uniqe values of Marital Status col after cleaning and validation \n",
    "df[\"Education_Level\"].unique()"
   ]
  },
  {
   "cell_type": "code",
   "execution_count": 29,
   "id": "f4e62fc9",
   "metadata": {},
   "outputs": [
    {
     "data": {
      "text/plain": [
       "6584      7521.25 EUR\n",
       "14127             NaN\n",
       "571               NaN\n",
       "4167     10260.33 EGP\n",
       "11671     67523.0 JPY\n",
       "12464    121048.0 USD\n",
       "12194     77250.0 JPY\n",
       "6650              NaN\n",
       "14635     80599.0 JPY\n",
       "10420     5608.92 USD\n",
       "Name: Salary, dtype: object"
      ]
     },
     "execution_count": 29,
     "metadata": {},
     "output_type": "execute_result"
    }
   ],
   "source": [
    "#showing values sample of values of salary col\n",
    "df[\"Salary\"].sample(10)"
   ]
  },
  {
   "cell_type": "code",
   "execution_count": 30,
   "id": "d4013b95",
   "metadata": {},
   "outputs": [
    {
     "data": {
      "text/html": [
       "<div>\n",
       "<style scoped>\n",
       "    .dataframe tbody tr th:only-of-type {\n",
       "        vertical-align: middle;\n",
       "    }\n",
       "\n",
       "    .dataframe tbody tr th {\n",
       "        vertical-align: top;\n",
       "    }\n",
       "\n",
       "    .dataframe thead th {\n",
       "        text-align: right;\n",
       "    }\n",
       "</style>\n",
       "<table border=\"1\" class=\"dataframe\">\n",
       "  <thead>\n",
       "    <tr style=\"text-align: right;\">\n",
       "      <th></th>\n",
       "      <th>Salary_Amount</th>\n",
       "      <th>Salary_Currency</th>\n",
       "    </tr>\n",
       "  </thead>\n",
       "  <tbody>\n",
       "    <tr>\n",
       "      <th>822</th>\n",
       "      <td>NaN</td>\n",
       "      <td>NaN</td>\n",
       "    </tr>\n",
       "    <tr>\n",
       "      <th>3133</th>\n",
       "      <td>NaN</td>\n",
       "      <td>NaN</td>\n",
       "    </tr>\n",
       "    <tr>\n",
       "      <th>17976</th>\n",
       "      <td>10573.25</td>\n",
       "      <td>JPY</td>\n",
       "    </tr>\n",
       "    <tr>\n",
       "      <th>10054</th>\n",
       "      <td>NaN</td>\n",
       "      <td>NaN</td>\n",
       "    </tr>\n",
       "    <tr>\n",
       "      <th>9911</th>\n",
       "      <td>7980.75</td>\n",
       "      <td>GBP</td>\n",
       "    </tr>\n",
       "    <tr>\n",
       "      <th>9062</th>\n",
       "      <td>NaN</td>\n",
       "      <td>NaN</td>\n",
       "    </tr>\n",
       "    <tr>\n",
       "      <th>9110</th>\n",
       "      <td>NaN</td>\n",
       "      <td>NaN</td>\n",
       "    </tr>\n",
       "    <tr>\n",
       "      <th>13279</th>\n",
       "      <td>102378.0</td>\n",
       "      <td>EUR</td>\n",
       "    </tr>\n",
       "    <tr>\n",
       "      <th>2354</th>\n",
       "      <td>4241.08</td>\n",
       "      <td>GBP</td>\n",
       "    </tr>\n",
       "    <tr>\n",
       "      <th>11680</th>\n",
       "      <td>12157.58</td>\n",
       "      <td>EGP</td>\n",
       "    </tr>\n",
       "  </tbody>\n",
       "</table>\n",
       "</div>"
      ],
      "text/plain": [
       "      Salary_Amount Salary_Currency\n",
       "822             NaN             NaN\n",
       "3133            NaN             NaN\n",
       "17976      10573.25             JPY\n",
       "10054           NaN             NaN\n",
       "9911        7980.75             GBP\n",
       "9062            NaN             NaN\n",
       "9110            NaN             NaN\n",
       "13279      102378.0             EUR\n",
       "2354        4241.08             GBP\n",
       "11680      12157.58             EGP"
      ]
     },
     "execution_count": 30,
     "metadata": {},
     "output_type": "execute_result"
    }
   ],
   "source": [
    "#feature engineering by divide salary col to currency and amount\n",
    "df[['Salary_Amount', 'Salary_Currency']] = df['Salary'].str.extract(r'([0-9.,]+)\\s*([A-Za-z]+)', expand=True)\n",
    "\n",
    "df[['Salary_Amount', 'Salary_Currency']].sample(10)\n"
   ]
  },
  {
   "cell_type": "code",
   "execution_count": 31,
   "id": "78d306b1",
   "metadata": {},
   "outputs": [
    {
     "data": {
      "text/html": [
       "<div>\n",
       "<style scoped>\n",
       "    .dataframe tbody tr th:only-of-type {\n",
       "        vertical-align: middle;\n",
       "    }\n",
       "\n",
       "    .dataframe tbody tr th {\n",
       "        vertical-align: top;\n",
       "    }\n",
       "\n",
       "    .dataframe thead th {\n",
       "        text-align: right;\n",
       "    }\n",
       "</style>\n",
       "<table border=\"1\" class=\"dataframe\">\n",
       "  <thead>\n",
       "    <tr style=\"text-align: right;\">\n",
       "      <th></th>\n",
       "      <th>Full_Name</th>\n",
       "      <th>First_Name</th>\n",
       "      <th>Last_Name</th>\n",
       "      <th>Gender</th>\n",
       "      <th>Date_of_Birth</th>\n",
       "      <th>Hire_Date</th>\n",
       "      <th>Email</th>\n",
       "      <th>Age</th>\n",
       "      <th>Experience_Years</th>\n",
       "      <th>City</th>\n",
       "      <th>Job_Title</th>\n",
       "      <th>Marital_Status</th>\n",
       "      <th>Education_Level</th>\n",
       "      <th>Country</th>\n",
       "      <th>Salary_Amount</th>\n",
       "      <th>Salary_Currency</th>\n",
       "    </tr>\n",
       "  </thead>\n",
       "  <tbody>\n",
       "    <tr>\n",
       "      <th>0</th>\n",
       "      <td>Abdelrahman Saad</td>\n",
       "      <td>Abdelrahman</td>\n",
       "      <td>Saad</td>\n",
       "      <td>M</td>\n",
       "      <td>1997-09-26</td>\n",
       "      <td>2025-12-05</td>\n",
       "      <td>abdelrahman.saad@gmail.com</td>\n",
       "      <td>28</td>\n",
       "      <td>0</td>\n",
       "      <td>Dubai</td>\n",
       "      <td>Software Developer</td>\n",
       "      <td>S</td>\n",
       "      <td>Master</td>\n",
       "      <td>United Arab Emirates</td>\n",
       "      <td>44600</td>\n",
       "      <td>CAD</td>\n",
       "    </tr>\n",
       "    <tr>\n",
       "      <th>1</th>\n",
       "      <td>Nada Hany</td>\n",
       "      <td>Nada</td>\n",
       "      <td>Hany</td>\n",
       "      <td>F</td>\n",
       "      <td>1971-09-02</td>\n",
       "      <td>2021-11-30</td>\n",
       "      <td>nhany@gmail.com</td>\n",
       "      <td>54</td>\n",
       "      <td>4</td>\n",
       "      <td>Mexico City</td>\n",
       "      <td>Data Scientist</td>\n",
       "      <td>S</td>\n",
       "      <td>Bachelor</td>\n",
       "      <td>Mexico</td>\n",
       "      <td>4274</td>\n",
       "      <td>CAD</td>\n",
       "    </tr>\n",
       "    <tr>\n",
       "      <th>2</th>\n",
       "      <td>Hala Nader</td>\n",
       "      <td>Hala</td>\n",
       "      <td>Nader</td>\n",
       "      <td>F</td>\n",
       "      <td>1995-02-05</td>\n",
       "      <td>2015-05-11</td>\n",
       "      <td>hnader@gmail.com</td>\n",
       "      <td>30</td>\n",
       "      <td>10</td>\n",
       "      <td>Istanbul</td>\n",
       "      <td>Data Scientist</td>\n",
       "      <td>S</td>\n",
       "      <td>High School</td>\n",
       "      <td>Turkey</td>\n",
       "      <td>11177</td>\n",
       "      <td>EGP</td>\n",
       "    </tr>\n",
       "    <tr>\n",
       "      <th>3</th>\n",
       "      <td>Dina Nashaat</td>\n",
       "      <td>Dina</td>\n",
       "      <td>Nashaat</td>\n",
       "      <td>F</td>\n",
       "      <td>2001-06-08</td>\n",
       "      <td>2023-02-04</td>\n",
       "      <td>dina.nashaat@gmail.com</td>\n",
       "      <td>24</td>\n",
       "      <td>3</td>\n",
       "      <td>Bangkok</td>\n",
       "      <td>Pharmacist</td>\n",
       "      <td>S</td>\n",
       "      <td>Bachelor</td>\n",
       "      <td>Thailand</td>\n",
       "      <td>67749</td>\n",
       "      <td>USD</td>\n",
       "    </tr>\n",
       "    <tr>\n",
       "      <th>4</th>\n",
       "      <td>Eslam Fady</td>\n",
       "      <td>Eslam</td>\n",
       "      <td>Fady</td>\n",
       "      <td>M</td>\n",
       "      <td>1976-03-16</td>\n",
       "      <td>2007-02-18</td>\n",
       "      <td>eslam.fady@gmail.com</td>\n",
       "      <td>49</td>\n",
       "      <td>19</td>\n",
       "      <td>Dubai</td>\n",
       "      <td>Civil Engineer</td>\n",
       "      <td>M</td>\n",
       "      <td>Bachelor</td>\n",
       "      <td>United Arab Emirates</td>\n",
       "      <td>135173</td>\n",
       "      <td>JPY</td>\n",
       "    </tr>\n",
       "    <tr>\n",
       "      <th>...</th>\n",
       "      <td>...</td>\n",
       "      <td>...</td>\n",
       "      <td>...</td>\n",
       "      <td>...</td>\n",
       "      <td>...</td>\n",
       "      <td>...</td>\n",
       "      <td>...</td>\n",
       "      <td>...</td>\n",
       "      <td>...</td>\n",
       "      <td>...</td>\n",
       "      <td>...</td>\n",
       "      <td>...</td>\n",
       "      <td>...</td>\n",
       "      <td>...</td>\n",
       "      <td>...</td>\n",
       "      <td>...</td>\n",
       "    </tr>\n",
       "    <tr>\n",
       "      <th>19994</th>\n",
       "      <td>Ghada Nabil</td>\n",
       "      <td>Ghada</td>\n",
       "      <td>Nabil</td>\n",
       "      <td>F</td>\n",
       "      <td>2005-11-12</td>\n",
       "      <td>2025-02-15</td>\n",
       "      <td>ghada.nabil@gmail.com</td>\n",
       "      <td>20</td>\n",
       "      <td>0</td>\n",
       "      <td>Sharjah</td>\n",
       "      <td>Civil Engineer</td>\n",
       "      <td>M</td>\n",
       "      <td>Diploma</td>\n",
       "      <td>United Arab Emirates</td>\n",
       "      <td>52205</td>\n",
       "      <td>CAD</td>\n",
       "    </tr>\n",
       "    <tr>\n",
       "      <th>19995</th>\n",
       "      <td>Esraa Hatem</td>\n",
       "      <td>Esraa</td>\n",
       "      <td>Hatem</td>\n",
       "      <td>F</td>\n",
       "      <td>1967-06-14</td>\n",
       "      <td>2021-07-04</td>\n",
       "      <td>esraa.hatem@gmail.com</td>\n",
       "      <td>57</td>\n",
       "      <td>4</td>\n",
       "      <td>Doha</td>\n",
       "      <td>Sales Manager</td>\n",
       "      <td>S</td>\n",
       "      <td>High School</td>\n",
       "      <td>Qatar</td>\n",
       "      <td>4284</td>\n",
       "      <td>GBP</td>\n",
       "    </tr>\n",
       "    <tr>\n",
       "      <th>19996</th>\n",
       "      <td>Asmaa Sherif</td>\n",
       "      <td>Asmaa</td>\n",
       "      <td>Sherif</td>\n",
       "      <td>F</td>\n",
       "      <td>1986-10-07</td>\n",
       "      <td>2014-01-17</td>\n",
       "      <td>asmaa.sherif@gmail.com</td>\n",
       "      <td>39</td>\n",
       "      <td>12</td>\n",
       "      <td>Rabat</td>\n",
       "      <td>Engineer</td>\n",
       "      <td>S</td>\n",
       "      <td>Diploma</td>\n",
       "      <td>Morocco</td>\n",
       "      <td>109829</td>\n",
       "      <td>EGP</td>\n",
       "    </tr>\n",
       "    <tr>\n",
       "      <th>19997</th>\n",
       "      <td>Maha Nashaat</td>\n",
       "      <td>Maha</td>\n",
       "      <td>Nashaat</td>\n",
       "      <td>F</td>\n",
       "      <td>1979-10-28</td>\n",
       "      <td>2000-11-20</td>\n",
       "      <td>maha.nashaat@gmail.com</td>\n",
       "      <td>46</td>\n",
       "      <td>25</td>\n",
       "      <td>Beirut</td>\n",
       "      <td>Data Scientist</td>\n",
       "      <td>M</td>\n",
       "      <td>Bachelor</td>\n",
       "      <td>Lebanon</td>\n",
       "      <td>142056</td>\n",
       "      <td>USD</td>\n",
       "    </tr>\n",
       "    <tr>\n",
       "      <th>19999</th>\n",
       "      <td>Kareem Jamal</td>\n",
       "      <td>Kareem</td>\n",
       "      <td>Jamal</td>\n",
       "      <td>M</td>\n",
       "      <td>1997-02-09</td>\n",
       "      <td>2024-01-18</td>\n",
       "      <td>kareem.jamal@gmail.com</td>\n",
       "      <td>28</td>\n",
       "      <td>2</td>\n",
       "      <td>London</td>\n",
       "      <td>Sales Manager</td>\n",
       "      <td>S</td>\n",
       "      <td>PhD</td>\n",
       "      <td>United Kingdom</td>\n",
       "      <td>4626</td>\n",
       "      <td>USD</td>\n",
       "    </tr>\n",
       "  </tbody>\n",
       "</table>\n",
       "<p>18039 rows × 16 columns</p>\n",
       "</div>"
      ],
      "text/plain": [
       "              Full_Name   First_Name Last_Name Gender Date_of_Birth  \\\n",
       "0      Abdelrahman Saad  Abdelrahman      Saad      M    1997-09-26   \n",
       "1             Nada Hany         Nada      Hany      F    1971-09-02   \n",
       "2            Hala Nader         Hala     Nader      F    1995-02-05   \n",
       "3          Dina Nashaat         Dina   Nashaat      F    2001-06-08   \n",
       "4            Eslam Fady        Eslam      Fady      M    1976-03-16   \n",
       "...                 ...          ...       ...    ...           ...   \n",
       "19994       Ghada Nabil        Ghada     Nabil      F    2005-11-12   \n",
       "19995       Esraa Hatem        Esraa     Hatem      F    1967-06-14   \n",
       "19996      Asmaa Sherif        Asmaa    Sherif      F    1986-10-07   \n",
       "19997      Maha Nashaat         Maha   Nashaat      F    1979-10-28   \n",
       "19999      Kareem Jamal       Kareem     Jamal      M    1997-02-09   \n",
       "\n",
       "       Hire_Date                       Email  Age  Experience_Years  \\\n",
       "0     2025-12-05  abdelrahman.saad@gmail.com   28                 0   \n",
       "1     2021-11-30             nhany@gmail.com   54                 4   \n",
       "2     2015-05-11            hnader@gmail.com   30                10   \n",
       "3     2023-02-04      dina.nashaat@gmail.com   24                 3   \n",
       "4     2007-02-18        eslam.fady@gmail.com   49                19   \n",
       "...          ...                         ...  ...               ...   \n",
       "19994 2025-02-15       ghada.nabil@gmail.com   20                 0   \n",
       "19995 2021-07-04       esraa.hatem@gmail.com   57                 4   \n",
       "19996 2014-01-17      asmaa.sherif@gmail.com   39                12   \n",
       "19997 2000-11-20      maha.nashaat@gmail.com   46                25   \n",
       "19999 2024-01-18      kareem.jamal@gmail.com   28                 2   \n",
       "\n",
       "              City           Job_Title Marital_Status Education_Level  \\\n",
       "0            Dubai  Software Developer              S          Master   \n",
       "1      Mexico City      Data Scientist              S        Bachelor   \n",
       "2         Istanbul      Data Scientist              S     High School   \n",
       "3          Bangkok          Pharmacist              S        Bachelor   \n",
       "4            Dubai      Civil Engineer              M        Bachelor   \n",
       "...            ...                 ...            ...             ...   \n",
       "19994      Sharjah      Civil Engineer              M         Diploma   \n",
       "19995         Doha       Sales Manager              S     High School   \n",
       "19996        Rabat            Engineer              S         Diploma   \n",
       "19997       Beirut      Data Scientist              M        Bachelor   \n",
       "19999       London       Sales Manager              S             PhD   \n",
       "\n",
       "                    Country  Salary_Amount Salary_Currency  \n",
       "0      United Arab Emirates          44600             CAD  \n",
       "1                    Mexico           4274             CAD  \n",
       "2                    Turkey          11177             EGP  \n",
       "3                  Thailand          67749             USD  \n",
       "4      United Arab Emirates         135173             JPY  \n",
       "...                     ...            ...             ...  \n",
       "19994  United Arab Emirates          52205             CAD  \n",
       "19995                 Qatar           4284             GBP  \n",
       "19996               Morocco         109829             EGP  \n",
       "19997               Lebanon         142056             USD  \n",
       "19999        United Kingdom           4626             USD  \n",
       "\n",
       "[18039 rows x 16 columns]"
      ]
     },
     "execution_count": 31,
     "metadata": {},
     "output_type": "execute_result"
    }
   ],
   "source": [
    "# Convert Salary_Amount to numeric, if not done already\n",
    "df['Salary_Amount'] = pd.to_numeric(df['Salary_Amount'], errors='coerce')\n",
    "\n",
    "# Calculate the mean salary by Job_Title and Country\n",
    "mean_salary = df.groupby(['Job_Title', 'Country'])['Salary_Amount'].transform('mean')\n",
    "\n",
    "# Fill missing Salary values with the mean salary for the same Job_Title and Country\n",
    "df['Salary_Amount'] = df['Salary_Amount'].fillna(mean_salary)\n",
    "\n",
    "# Fill missing Salary_Currency values with the most frequent currency for the same Country\n",
    "df['Salary_Currency'] = df.groupby('Country')['Salary_Currency'].transform(lambda x: x.fillna(x.mode()[0]))\n",
    "\n",
    "# If you want to fill the 'Salary' column too (which contains the original salary with currency), you can:\n",
    "df['Salary'] = df['Salary_Amount'].astype(str) + ' ' + df['Salary_Currency']\n",
    "\n",
    "df[\"Salary_Amount\"] = df[\"Salary_Amount\"].astype(\"int\")\n",
    "df.drop(columns=\"Salary\")"
   ]
  },
  {
   "cell_type": "code",
   "execution_count": 32,
   "id": "295c0cb2",
   "metadata": {},
   "outputs": [
    {
     "data": {
      "text/plain": [
       "array(['CAD', 'EGP', 'USD', 'JPY', 'AUD', 'GBP', 'EUR'], dtype=object)"
      ]
     },
     "execution_count": 32,
     "metadata": {},
     "output_type": "execute_result"
    }
   ],
   "source": [
    "df[\"Salary_Currency\"].unique()"
   ]
  },
  {
   "cell_type": "code",
   "execution_count": 33,
   "id": "e6db37cb",
   "metadata": {},
   "outputs": [
    {
     "data": {
      "text/html": [
       "<div>\n",
       "<style scoped>\n",
       "    .dataframe tbody tr th:only-of-type {\n",
       "        vertical-align: middle;\n",
       "    }\n",
       "\n",
       "    .dataframe tbody tr th {\n",
       "        vertical-align: top;\n",
       "    }\n",
       "\n",
       "    .dataframe thead th {\n",
       "        text-align: right;\n",
       "    }\n",
       "</style>\n",
       "<table border=\"1\" class=\"dataframe\">\n",
       "  <thead>\n",
       "    <tr style=\"text-align: right;\">\n",
       "      <th></th>\n",
       "      <th>Full_Name</th>\n",
       "      <th>First_Name</th>\n",
       "      <th>Last_Name</th>\n",
       "      <th>Gender</th>\n",
       "      <th>Date_of_Birth</th>\n",
       "      <th>Hire_Date</th>\n",
       "      <th>Email</th>\n",
       "      <th>Age</th>\n",
       "      <th>Experience_Years</th>\n",
       "      <th>City</th>\n",
       "      <th>Job_Title</th>\n",
       "      <th>Marital_Status</th>\n",
       "      <th>Education_Level</th>\n",
       "      <th>Salary</th>\n",
       "      <th>Country</th>\n",
       "      <th>Salary_Amount</th>\n",
       "      <th>Salary_Currency</th>\n",
       "      <th>Salary_USD</th>\n",
       "    </tr>\n",
       "  </thead>\n",
       "  <tbody>\n",
       "    <tr>\n",
       "      <th>0</th>\n",
       "      <td>Abdelrahman Saad</td>\n",
       "      <td>Abdelrahman</td>\n",
       "      <td>Saad</td>\n",
       "      <td>M</td>\n",
       "      <td>1997-09-26</td>\n",
       "      <td>2025-12-05</td>\n",
       "      <td>abdelrahman.saad@gmail.com</td>\n",
       "      <td>28</td>\n",
       "      <td>0</td>\n",
       "      <td>Dubai</td>\n",
       "      <td>Software Developer</td>\n",
       "      <td>S</td>\n",
       "      <td>Master</td>\n",
       "      <td>44600.80835820896 CAD</td>\n",
       "      <td>United Arab Emirates</td>\n",
       "      <td>44600</td>\n",
       "      <td>CAD</td>\n",
       "      <td>32558.00</td>\n",
       "    </tr>\n",
       "    <tr>\n",
       "      <th>1</th>\n",
       "      <td>Nada Hany</td>\n",
       "      <td>Nada</td>\n",
       "      <td>Hany</td>\n",
       "      <td>F</td>\n",
       "      <td>1971-09-02</td>\n",
       "      <td>2021-11-30</td>\n",
       "      <td>nhany@gmail.com</td>\n",
       "      <td>54</td>\n",
       "      <td>4</td>\n",
       "      <td>Mexico City</td>\n",
       "      <td>Data Scientist</td>\n",
       "      <td>S</td>\n",
       "      <td>Bachelor</td>\n",
       "      <td>4274.58 CAD</td>\n",
       "      <td>Mexico</td>\n",
       "      <td>4274</td>\n",
       "      <td>CAD</td>\n",
       "      <td>3120.02</td>\n",
       "    </tr>\n",
       "    <tr>\n",
       "      <th>2</th>\n",
       "      <td>Hala Nader</td>\n",
       "      <td>Hala</td>\n",
       "      <td>Nader</td>\n",
       "      <td>F</td>\n",
       "      <td>1995-02-05</td>\n",
       "      <td>2015-05-11</td>\n",
       "      <td>hnader@gmail.com</td>\n",
       "      <td>30</td>\n",
       "      <td>10</td>\n",
       "      <td>Istanbul</td>\n",
       "      <td>Data Scientist</td>\n",
       "      <td>S</td>\n",
       "      <td>High School</td>\n",
       "      <td>11177.08 EGP</td>\n",
       "      <td>Turkey</td>\n",
       "      <td>11177</td>\n",
       "      <td>EGP</td>\n",
       "      <td>357.66</td>\n",
       "    </tr>\n",
       "    <tr>\n",
       "      <th>3</th>\n",
       "      <td>Dina Nashaat</td>\n",
       "      <td>Dina</td>\n",
       "      <td>Nashaat</td>\n",
       "      <td>F</td>\n",
       "      <td>2001-06-08</td>\n",
       "      <td>2023-02-04</td>\n",
       "      <td>dina.nashaat@gmail.com</td>\n",
       "      <td>24</td>\n",
       "      <td>3</td>\n",
       "      <td>Bangkok</td>\n",
       "      <td>Pharmacist</td>\n",
       "      <td>S</td>\n",
       "      <td>Bachelor</td>\n",
       "      <td>67749.0 USD</td>\n",
       "      <td>Thailand</td>\n",
       "      <td>67749</td>\n",
       "      <td>USD</td>\n",
       "      <td>67749.00</td>\n",
       "    </tr>\n",
       "    <tr>\n",
       "      <th>4</th>\n",
       "      <td>Eslam Fady</td>\n",
       "      <td>Eslam</td>\n",
       "      <td>Fady</td>\n",
       "      <td>M</td>\n",
       "      <td>1976-03-16</td>\n",
       "      <td>2007-02-18</td>\n",
       "      <td>eslam.fady@gmail.com</td>\n",
       "      <td>49</td>\n",
       "      <td>19</td>\n",
       "      <td>Dubai</td>\n",
       "      <td>Civil Engineer</td>\n",
       "      <td>M</td>\n",
       "      <td>Bachelor</td>\n",
       "      <td>135173.0 JPY</td>\n",
       "      <td>United Arab Emirates</td>\n",
       "      <td>135173</td>\n",
       "      <td>JPY</td>\n",
       "      <td>892.14</td>\n",
       "    </tr>\n",
       "  </tbody>\n",
       "</table>\n",
       "</div>"
      ],
      "text/plain": [
       "          Full_Name   First_Name Last_Name Gender Date_of_Birth  Hire_Date  \\\n",
       "0  Abdelrahman Saad  Abdelrahman      Saad      M    1997-09-26 2025-12-05   \n",
       "1         Nada Hany         Nada      Hany      F    1971-09-02 2021-11-30   \n",
       "2        Hala Nader         Hala     Nader      F    1995-02-05 2015-05-11   \n",
       "3      Dina Nashaat         Dina   Nashaat      F    2001-06-08 2023-02-04   \n",
       "4        Eslam Fady        Eslam      Fady      M    1976-03-16 2007-02-18   \n",
       "\n",
       "                        Email  Age  Experience_Years         City  \\\n",
       "0  abdelrahman.saad@gmail.com   28                 0        Dubai   \n",
       "1             nhany@gmail.com   54                 4  Mexico City   \n",
       "2            hnader@gmail.com   30                10     Istanbul   \n",
       "3      dina.nashaat@gmail.com   24                 3      Bangkok   \n",
       "4        eslam.fady@gmail.com   49                19        Dubai   \n",
       "\n",
       "            Job_Title Marital_Status Education_Level                 Salary  \\\n",
       "0  Software Developer              S          Master  44600.80835820896 CAD   \n",
       "1      Data Scientist              S        Bachelor            4274.58 CAD   \n",
       "2      Data Scientist              S     High School           11177.08 EGP   \n",
       "3          Pharmacist              S        Bachelor            67749.0 USD   \n",
       "4      Civil Engineer              M        Bachelor           135173.0 JPY   \n",
       "\n",
       "                Country  Salary_Amount Salary_Currency  Salary_USD  \n",
       "0  United Arab Emirates          44600             CAD    32558.00  \n",
       "1                Mexico           4274             CAD     3120.02  \n",
       "2                Turkey          11177             EGP      357.66  \n",
       "3              Thailand          67749             USD    67749.00  \n",
       "4  United Arab Emirates         135173             JPY      892.14  "
      ]
     },
     "execution_count": 33,
     "metadata": {},
     "output_type": "execute_result"
    }
   ],
   "source": [
    "currency_to_usd = {\n",
    "    'CAD': 0.73,   # 1 CAD = 0.73 USD\n",
    "    'EGP': 0.032,  # 1 EGP = 0.032 USD\n",
    "    'USD': 1.0,\n",
    "    'JPY': 0.0066,\n",
    "    'AUD': 0.65,\n",
    "    'EUR': 1.07,\n",
    "    'GBP': 1.25\n",
    "}\n",
    "\n",
    "df['Salary_USD'] = df.apply(lambda row: \n",
    "    row['Salary_Amount'] * currency_to_usd.get(row['Salary_Currency'], None), axis=1)\n",
    "\n",
    "df['Salary_USD'] = df['Salary_USD'].round(2)\n",
    "df.head(5)"
   ]
  },
  {
   "cell_type": "code",
   "execution_count": 34,
   "id": "4a6d2a85",
   "metadata": {},
   "outputs": [
    {
     "name": "stdout",
     "output_type": "stream",
     "text": [
      "<class 'pandas.core.frame.DataFrame'>\n",
      "Index: 18039 entries, 0 to 19999\n",
      "Data columns (total 18 columns):\n",
      " #   Column            Non-Null Count  Dtype         \n",
      "---  ------            --------------  -----         \n",
      " 0   Full_Name         18039 non-null  object        \n",
      " 1   First_Name        18039 non-null  object        \n",
      " 2   Last_Name         18039 non-null  object        \n",
      " 3   Gender            18039 non-null  object        \n",
      " 4   Date_of_Birth     18039 non-null  datetime64[ns]\n",
      " 5   Hire_Date         18039 non-null  datetime64[ns]\n",
      " 6   Email             18039 non-null  object        \n",
      " 7   Age               18039 non-null  int32         \n",
      " 8   Experience_Years  18039 non-null  int64         \n",
      " 9   City              18039 non-null  object        \n",
      " 10  Job_Title         18039 non-null  object        \n",
      " 11  Marital_Status    18039 non-null  object        \n",
      " 12  Education_Level   18039 non-null  object        \n",
      " 13  Salary            18039 non-null  object        \n",
      " 14  Country           18039 non-null  object        \n",
      " 15  Salary_Amount     18039 non-null  int32         \n",
      " 16  Salary_Currency   18039 non-null  object        \n",
      " 17  Salary_USD        18039 non-null  float64       \n",
      "dtypes: datetime64[ns](2), float64(1), int32(2), int64(1), object(12)\n",
      "memory usage: 2.5+ MB\n"
     ]
    }
   ],
   "source": [
    "df.info()"
   ]
  },
  {
   "cell_type": "code",
   "execution_count": 35,
   "id": "dc163e8c",
   "metadata": {},
   "outputs": [],
   "source": [
    "exporting_path = \"C:\\\\Users\\\\user\\\\Desktop\\\\project 101\\\\employee_records_after_preproccessing.csv\"\n",
    "df.to_csv(exporting_path)"
   ]
  },
  {
   "cell_type": "markdown",
   "id": "8f6fb44f",
   "metadata": {},
   "source": [
    "## 📊 Recommendations for Data Analysis\n",
    "\n",
    "Here are some ideas for analyzing the cleaned dataset:\n",
    "\n",
    "### 1. Salary Analysis\n",
    "- 🔹 Compare average salary across job titles and countries.\n",
    "- 🔹 Explore how education level or experience affects salary.\n",
    "- 🔹 Visualize salary distributions using histograms or boxplots.\n",
    "\n",
    "### 2. Demographics\n",
    "- 🔹 Gender distribution per job role.\n",
    "- 🔹 Age distribution of employees.\n",
    "- 🔹 Explore marital status and education trends.\n",
    "\n",
    "### 3. Geographic Analysis\n",
    "- 🔹 Top cities and countries by employee count.\n",
    "- 🔹 Regional trends in job titles or salaries.\n",
    "\n",
    "### 4. Experience Insights\n",
    "- 🔹 Correlate years of experience with salary.\n",
    "- 🔹 Group data by age ranges and examine job titles or education levels.\n",
    "\n",
    "### 5. Hiring Trends\n",
    "- 🔹 Hiring date trends: which years/quarters had the most hiring?\n",
    "- 🔹 Age at hire: how old are employees when hired?\n",
    "\n",
    "---\n",
    "\n",
    "## 📈 Suggested Visualizations\n",
    "- Bar charts for categorical distributions (e.g., gender, marital status).\n",
    "- Boxplots to compare salary across job roles or countries.\n",
    "- Heatmaps for correlation (e.g., experience vs. salary vs. age).\n",
    "- Pie charts or count plots for education levels.\n",
    "- Time series plots for hire trends.\n",
    "\n",
    "---\n",
    "\n",
    "## ✅ Next Steps\n",
    "- Perform EDA (Exploratory Data Analysis) on salary, age, and experience.\n",
    "- Create dashboards or visual summaries (e.g., with Seaborn or Plotly).\n",
    "- Consider exporting cleaned data for use in Power BI, Tableau, etc.\n"
   ]
  },
  {
   "cell_type": "code",
   "execution_count": 36,
   "id": "40026138",
   "metadata": {},
   "outputs": [
    {
     "ename": "NameError",
     "evalue": "name 'avg_salary_by_job' is not defined",
     "output_type": "error",
     "traceback": [
      "\u001b[1;31m---------------------------------------------------------------------------\u001b[0m",
      "\u001b[1;31mNameError\u001b[0m                                 Traceback (most recent call last)",
      "Cell \u001b[1;32mIn[36], line 1\u001b[0m\n\u001b[1;32m----> 1\u001b[0m \u001b[43mavg_salary_by_job\u001b[49m\u001b[38;5;241m.\u001b[39mhead()\n",
      "\u001b[1;31mNameError\u001b[0m: name 'avg_salary_by_job' is not defined"
     ]
    }
   ],
   "source": [
    "avg_salary_by_job.head()"
   ]
  },
  {
   "cell_type": "markdown",
   "id": "ef853534",
   "metadata": {},
   "source": [
    "## Salary"
   ]
  },
  {
   "cell_type": "markdown",
   "id": "85615c6c",
   "metadata": {},
   "source": [
    "### Compare Average Salary Across Job Titles"
   ]
  },
  {
   "cell_type": "code",
   "execution_count": null,
   "id": "9c82192e",
   "metadata": {},
   "outputs": [
    {
     "name": "stderr",
     "output_type": "stream",
     "text": [
      "C:\\Users\\user\\AppData\\Local\\Temp\\ipykernel_20076\\859024823.py:7: FutureWarning: \n",
      "\n",
      "Passing `palette` without assigning `hue` is deprecated and will be removed in v0.14.0. Assign the `y` variable to `hue` and set `legend=False` for the same effect.\n",
      "\n",
      "  sns.barplot(x=avg_salary_by_job.values, y=avg_salary_by_job.index, palette='mako')\n"
     ]
    },
    {
     "data": {
      "image/png": "[encoded data removed]",
      "text/plain": [
       "<Figure size 1800x800 with 1 Axes>"
      ]
     },
     "metadata": {},
     "output_type": "display_data"
    }
   ],
   "source": [
    "# Average salary by job title\n",
    "avg_salary_by_job = df.groupby('Job_Title')['Salary_USD'].mean().sort_values(ascending=False)\n",
    "\n",
    "\n",
    "\n",
    "plt.figure(figsize=(18, 8))\n",
    "sns.barplot(x=avg_salary_by_job.values, y=avg_salary_by_job.index, palette='mako')\n",
    "plt.title('Average Salary by Job Title')\n",
    "plt.xlabel('Average Salary (in USD)')\n",
    "plt.ylabel('Job Title')\n",
    "plt.tight_layout()\n",
    "plt.show()"
   ]
  },
  {
   "cell_type": "markdown",
   "id": "670624e1",
   "metadata": {},
   "source": [
    "### Compare Average Salary Across Countries"
   ]
  },
  {
   "cell_type": "code",
   "execution_count": null,
   "id": "918d389a",
   "metadata": {},
   "outputs": [
    {
     "name": "stderr",
     "output_type": "stream",
     "text": [
      "C:\\Users\\user\\AppData\\Local\\Temp\\ipykernel_20076\\3601833367.py:5: FutureWarning: \n",
      "\n",
      "Passing `palette` without assigning `hue` is deprecated and will be removed in v0.14.0. Assign the `y` variable to `hue` and set `legend=False` for the same effect.\n",
      "\n",
      "  sns.barplot(x=avg_salary_by_country.values, y=avg_salary_by_country.index, palette='mako')\n"
     ]
    },
    {
     "data": {
      "image/png": "[encoded data removed]",
      "text/plain": [
       "<Figure size 1800x800 with 1 Axes>"
      ]
     },
     "metadata": {},
     "output_type": "display_data"
    }
   ],
   "source": [
    "# Average salary by country\n",
    "avg_salary_by_country = df.groupby('Country')['Salary_USD'].mean().sort_values(ascending=False)\n",
    "\n",
    "plt.figure(figsize=(18,8))\n",
    "sns.barplot(x=avg_salary_by_country.values, y=avg_salary_by_country.index, palette='mako')\n",
    "plt.title('Average Salary by Country')\n",
    "plt.xlabel('Average Salary (in USD)')\n",
    "plt.ylabel('Country')\n",
    "plt.tight_layout()\n",
    "plt.show()\n"
   ]
  },
  {
   "cell_type": "markdown",
   "id": "df7f1017",
   "metadata": {},
   "source": [
    "### How Education Level Affects Salary"
   ]
  },
  {
   "cell_type": "code",
   "execution_count": null,
   "id": "b3559877",
   "metadata": {},
   "outputs": [
    {
     "data": {
      "text/plain": [
       "array(['Master', 'Bachelor', 'High School', 'Masters', 'PhD', 'Diploma'],\n",
       "      dtype=object)"
      ]
     },
     "execution_count": 298,
     "metadata": {},
     "output_type": "execute_result"
    }
   ],
   "source": [
    "df[\"Education_Level\"].unique()"
   ]
  },
  {
   "cell_type": "code",
   "execution_count": null,
   "id": "4110b8a3",
   "metadata": {},
   "outputs": [
    {
     "name": "stderr",
     "output_type": "stream",
     "text": [
      "C:\\Users\\user\\AppData\\Local\\Temp\\ipykernel_20076\\426104013.py:8: FutureWarning: The default of observed=False is deprecated and will be changed to True in a future version of pandas. Pass observed=False to retain current behavior or observed=True to adopt the future default and silence this warning.\n",
      "  avg_salary_by_edu = df.groupby('Education_Level')['Salary_USD'].mean().loc[edu_order]\n",
      "C:\\Users\\user\\AppData\\Local\\Temp\\ipykernel_20076\\426104013.py:12: FutureWarning: \n",
      "\n",
      "Passing `palette` without assigning `hue` is deprecated and will be removed in v0.14.0. Assign the `x` variable to `hue` and set `legend=False` for the same effect.\n",
      "\n",
      "  sns.barplot(x=avg_salary_by_edu.index, y=avg_salary_by_edu.values, palette='mako')\n"
     ]
    },
    {
     "data": {
      "image/png": "[encoded data removed]",
      "text/plain": [
       "<Figure size 1800x800 with 1 Axes>"
      ]
     },
     "metadata": {},
     "output_type": "display_data"
    }
   ],
   "source": [
    "# Define desired education level order (from low to high)\n",
    "edu_order = ['High School', 'Diploma', 'Bachelor', 'Master', 'Masters', 'PhD']\n",
    "\n",
    "# Ensure consistent casing and map categories\n",
    "df['Education_Level'] = pd.Categorical(df['Education_Level'], categories=edu_order, ordered=True)\n",
    "\n",
    "# Group and sort by defined order\n",
    "avg_salary_by_edu = df.groupby('Education_Level')['Salary_USD'].mean().loc[edu_order]\n",
    "\n",
    "# Plot\n",
    "plt.figure(figsize=(18, 8))\n",
    "sns.barplot(x=avg_salary_by_edu.index, y=avg_salary_by_edu.values, palette='mako')\n",
    "plt.title('Average Salary by Education Level')\n",
    "plt.ylabel('Average Salary')\n",
    "plt.xlabel('Education Level')\n",
    "plt.xticks(rotation=45)\n",
    "plt.tight_layout()\n",
    "plt.show()\n"
   ]
  },
  {
   "cell_type": "markdown",
   "id": "0a515815",
   "metadata": {},
   "source": [
    "### How Experience Affects Salary"
   ]
  },
  {
   "cell_type": "code",
   "execution_count": null,
   "id": "cf6787a2",
   "metadata": {},
   "outputs": [
    {
     "name": "stderr",
     "output_type": "stream",
     "text": [
      "C:\\Users\\user\\AppData\\Local\\Temp\\ipykernel_20076\\1695094270.py:7: FutureWarning: The default of observed=False is deprecated and will be changed to True in a future version of pandas. Pass observed=False to retain current behavior or observed=True to adopt the future default and silence this warning.\n",
      "  avg_salary_by_exp_range = df.groupby('Experience_Range')['Salary_USD'].mean().sort_index()\n",
      "C:\\Users\\user\\AppData\\Local\\Temp\\ipykernel_20076\\1695094270.py:11: FutureWarning: \n",
      "\n",
      "Passing `palette` without assigning `hue` is deprecated and will be removed in v0.14.0. Assign the `x` variable to `hue` and set `legend=False` for the same effect.\n",
      "\n",
      "  sns.barplot(x=avg_salary_by_exp_range.index, y=avg_salary_by_exp_range.values, palette='mako')\n"
     ]
    },
    {
     "data": {
      "image/png": "[encoded data removed]",
      "text/plain": [
       "<Figure size 1800x800 with 1 Axes>"
      ]
     },
     "metadata": {},
     "output_type": "display_data"
    }
   ],
   "source": [
    "# Define experience bins\n",
    "bins = [0, 5, 10, 15, 20, 25, 30, df['Experience_Years'].max()]\n",
    "labels = ['0–5', '6–10', '11–15', '16–20', '21–25', '26–30', '30+']\n",
    "df['Experience_Range'] = pd.cut(df['Experience_Years'], bins=bins, labels=labels, right=True, include_lowest=True)\n",
    "\n",
    "# Average salary by experience range\n",
    "avg_salary_by_exp_range = df.groupby('Experience_Range')['Salary_USD'].mean().sort_index()\n",
    "\n",
    "# Plot\n",
    "plt.figure(figsize=(18,8))\n",
    "sns.barplot(x=avg_salary_by_exp_range.index, y=avg_salary_by_exp_range.values, palette='mako')\n",
    "plt.title('Experience Range vs. Average Salary')\n",
    "plt.xlabel('Experience Range (Years)')\n",
    "plt.ylabel('Average Salary')\n",
    "plt.tight_layout()\n",
    "plt.show()\n"
   ]
  },
  {
   "cell_type": "markdown",
   "id": "60e10bf0",
   "metadata": {},
   "source": [
    "## Demographics"
   ]
  },
  {
   "cell_type": "markdown",
   "id": "d874f101",
   "metadata": {},
   "source": [
    "### Gender Distribution per Job Role"
   ]
  },
  {
   "cell_type": "code",
   "execution_count": null,
   "id": "c67290be",
   "metadata": {},
   "outputs": [
    {
     "data": {
      "image/png": "[encoded data removed]",
      "text/plain": [
       "<Figure size 1800x800 with 1 Axes>"
      ]
     },
     "metadata": {},
     "output_type": "display_data"
    }
   ],
   "source": [
    "plt.figure(figsize=(18, 8))\n",
    "sns.countplot(data=df, x='Job_Title', hue='Gender', palette='mako')\n",
    "plt.title('Gender Distribution Across Job Roles')\n",
    "plt.xlabel('Job Title')\n",
    "plt.ylabel('Count')\n",
    "plt.legend(title='Gender')\n",
    "plt.xticks(rotation=90)\n",
    "plt.tight_layout()\n",
    "plt.show()"
   ]
  },
  {
   "cell_type": "code",
   "execution_count": null,
   "id": "320c8711",
   "metadata": {},
   "outputs": [
    {
     "data": {
      "image/png": "[encoded data removed]",
      "text/plain": [
       "<Figure size 1800x800 with 1 Axes>"
      ]
     },
     "metadata": {},
     "output_type": "display_data"
    }
   ],
   "source": [
    "plt.figure(figsize=(18, 8))\n",
    "sns.countplot(data=df, x='Education_Level', hue='Marital_Status', palette='mako')\n",
    "plt.title('Gender Distribution Across Job Roles')\n",
    "plt.xlabel('Education_Level')\n",
    "plt.ylabel('Count')\n",
    "plt.legend(title='Marital Status')\n",
    "plt.xticks(rotation=90)\n",
    "plt.tight_layout()\n",
    "plt.show()"
   ]
  },
  {
   "cell_type": "code",
   "execution_count": null,
   "id": "f7eac96e",
   "metadata": {},
   "outputs": [],
   "source": []
  }
 ],
 "metadata": {
  "kernelspec": {
   "display_name": "Python 3",
   "language": "python",
   "name": "python3"
  },
  "language_info": {
   "codemirror_mode": {
    "name": "ipython",
    "version": 3
   },
   "file_extension": ".py",
   "mimetype": "text/x-python",
   "name": "python",
   "nbconvert_exporter": "python",
   "pygments_lexer": "ipython3",
   "version": "3.11.4"
  }
 },
 "nbformat": 4,
 "nbformat_minor": 5
}
